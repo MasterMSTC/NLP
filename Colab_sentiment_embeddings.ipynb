{
  "nbformat": 4,
  "nbformat_minor": 0,
  "metadata": {
    "colab": {
      "name": "Colab_sentiment_embeddings.ipynb",
      "version": "0.3.2",
      "provenance": [],
      "collapsed_sections": []
    },
    "kernelspec": {
      "name": "python3",
      "display_name": "Python 3"
    },
    "accelerator": "GPU"
  },
  "cells": [
    {
      "metadata": {
        "id": "SqyLCT13XuGA",
        "colab_type": "text"
      },
      "cell_type": "markdown",
      "source": [
        "# Example: Generating Embeddings using Amazon reviews"
      ]
    },
    {
      "metadata": {
        "id": "ZNivx37eXnKZ",
        "colab_type": "code",
        "colab": {
          "base_uri": "https://localhost:8080/",
          "height": 35
        },
        "outputId": "7d08d8df-1be2-42bc-ac2c-f1cffca208f5"
      },
      "cell_type": "code",
      "source": [
        "! pip -q install unidecode"
      ],
      "execution_count": 4,
      "outputs": [
        {
          "output_type": "stream",
          "text": [
            "\u001b[?25l\r\u001b[K    4% |█▍                              | 10kB 19.5MB/s eta 0:00:01\r\u001b[K    8% |██▊                             | 20kB 1.8MB/s eta 0:00:01\r\u001b[K    12% |████▏                           | 30kB 2.7MB/s eta 0:00:01\r\u001b[K    17% |█████▌                          | 40kB 1.8MB/s eta 0:00:01\r\u001b[K    21% |███████                         | 51kB 2.2MB/s eta 0:00:01\r\u001b[K    25% |████████▎                       | 61kB 2.6MB/s eta 0:00:01\r\u001b[K    30% |█████████▋                      | 71kB 3.0MB/s eta 0:00:01\r\u001b[K    34% |███████████                     | 81kB 3.4MB/s eta 0:00:01\r\u001b[K    38% |████████████▍                   | 92kB 3.8MB/s eta 0:00:01\r\u001b[K    43% |█████████████▉                  | 102kB 2.9MB/s eta 0:00:01\r\u001b[K    47% |███████████████▏                | 112kB 2.9MB/s eta 0:00:01\r\u001b[K    51% |████████████████▋               | 122kB 4.1MB/s eta 0:00:01\r\u001b[K    56% |██████████████████              | 133kB 4.1MB/s eta 0:00:01\r\u001b[K    60% |███████████████████▎            | 143kB 7.8MB/s eta 0:00:01\r\u001b[K    64% |████████████████████▊           | 153kB 7.9MB/s eta 0:00:01\r\u001b[K    69% |██████████████████████          | 163kB 7.9MB/s eta 0:00:01\r\u001b[K    73% |███████████████████████▌        | 174kB 8.0MB/s eta 0:00:01\r\u001b[K    77% |████████████████████████▉       | 184kB 8.0MB/s eta 0:00:01\r\u001b[K    81% |██████████████████████████▎     | 194kB 8.0MB/s eta 0:00:01\r\u001b[K    86% |███████████████████████████▋    | 204kB 43.9MB/s eta 0:00:01\r\u001b[K    90% |█████████████████████████████   | 215kB 8.7MB/s eta 0:00:01\r\u001b[K    94% |██████████████████████████████▍ | 225kB 8.7MB/s eta 0:00:01\r\u001b[K    99% |███████████████████████████████▊| 235kB 8.8MB/s eta 0:00:01\r\u001b[K    100% |████████████████████████████████| 245kB 7.5MB/s \n",
            "\u001b[?25h"
          ],
          "name": "stdout"
        }
      ]
    },
    {
      "metadata": {
        "id": "oEO8_bVmX-Cp",
        "colab_type": "code",
        "colab": {
          "base_uri": "https://localhost:8080/",
          "height": 35
        },
        "outputId": "a4296370-b409-4f07-df6a-e3b90d914260"
      },
      "cell_type": "code",
      "source": [
        "! pip -q install num2words"
      ],
      "execution_count": 6,
      "outputs": [
        {
          "output_type": "stream",
          "text": [
            "\u001b[?25l\r\u001b[K    10% |███▎                            | 10kB 18.1MB/s eta 0:00:01\r\u001b[K    20% |██████▋                         | 20kB 1.9MB/s eta 0:00:01\r\u001b[K    31% |██████████                      | 30kB 2.7MB/s eta 0:00:01\r\u001b[K    41% |█████████████▎                  | 40kB 1.8MB/s eta 0:00:01\r\u001b[K    51% |████████████████▌               | 51kB 2.2MB/s eta 0:00:01\r\u001b[K    62% |███████████████████▉            | 61kB 2.6MB/s eta 0:00:01\r\u001b[K    72% |███████████████████████▏        | 71kB 3.0MB/s eta 0:00:01\r\u001b[K    82% |██████████████████████████▌     | 81kB 3.4MB/s eta 0:00:01\r\u001b[K    93% |█████████████████████████████▊  | 92kB 3.7MB/s eta 0:00:01\r\u001b[K    100% |████████████████████████████████| 102kB 2.7MB/s \n",
            "\u001b[?25h"
          ],
          "name": "stdout"
        }
      ]
    },
    {
      "metadata": {
        "id": "9EMOTztYxOD0",
        "colab_type": "code",
        "colab": {
          "base_uri": "https://localhost:8080/",
          "height": 108
        },
        "outputId": "44285c09-8214-42cc-fec5-2dba4267a0a0"
      },
      "cell_type": "code",
      "source": [
        "import os\n",
        "import pandas as pd\n",
        "import nltk\n",
        "\n",
        "import re\n",
        "import unidecode\n",
        "from num2words import num2words\n",
        "from nltk.tokenize import word_tokenize\n",
        "from nltk.corpus import stopwords\n",
        "nltk.download('stopwords')\n",
        "nltk.download('punkt')"
      ],
      "execution_count": 29,
      "outputs": [
        {
          "output_type": "stream",
          "text": [
            "[nltk_data] Downloading package stopwords to /root/nltk_data...\n",
            "[nltk_data]   Package stopwords is already up-to-date!\n",
            "[nltk_data] Downloading package punkt to /root/nltk_data...\n",
            "[nltk_data]   Unzipping tokenizers/punkt.zip.\n"
          ],
          "name": "stdout"
        },
        {
          "output_type": "execute_result",
          "data": {
            "text/plain": [
              "True"
            ]
          },
          "metadata": {
            "tags": []
          },
          "execution_count": 29
        }
      ]
    },
    {
      "metadata": {
        "id": "tfF3gED5xOEE",
        "colab_type": "text"
      },
      "cell_type": "markdown",
      "source": [
        "# Loading the data"
      ]
    },
    {
      "metadata": {
        "id": "nCo94trKxf9r",
        "colab_type": "code",
        "outputId": "c17fb048-3edc-41aa-93a1-0a6568108577",
        "colab": {
          "base_uri": "https://localhost:8080/",
          "height": 638
        }
      },
      "cell_type": "code",
      "source": [
        "! wget http://snap.stanford.edu/data/amazon/productGraph/categoryFiles/reviews_Clothing_Shoes_and_Jewelry.json.gz\n",
        "! wget http://snap.stanford.edu/data/amazon/productGraph/categoryFiles/reviews_Sports_and_Outdoors.json.gz\n",
        "! wget http://snap.stanford.edu/data/amazon/productGraph/categoryFiles/reviews_Automotive.json.gz"
      ],
      "execution_count": 8,
      "outputs": [
        {
          "output_type": "stream",
          "text": [
            "--2019-04-03 13:25:31--  http://snap.stanford.edu/data/amazon/productGraph/categoryFiles/reviews_Clothing_Shoes_and_Jewelry.json.gz\n",
            "Resolving snap.stanford.edu (snap.stanford.edu)... 171.64.75.80\n",
            "Connecting to snap.stanford.edu (snap.stanford.edu)|171.64.75.80|:80... connected.\n",
            "HTTP request sent, awaiting response... 200 OK\n",
            "Length: 887438479 (846M) [application/x-gzip]\n",
            "Saving to: ‘reviews_Clothing_Shoes_and_Jewelry.json.gz’\n",
            "\n",
            "reviews_Clothing_Sh 100%[===================>] 846.33M  5.31MB/s    in 3m 27s  \n",
            "\n",
            "2019-04-03 13:28:58 (4.09 MB/s) - ‘reviews_Clothing_Shoes_and_Jewelry.json.gz’ saved [887438479/887438479]\n",
            "\n",
            "--2019-04-03 13:29:00--  http://snap.stanford.edu/data/amazon/productGraph/categoryFiles/reviews_Sports_and_Outdoors.json.gz\n",
            "Resolving snap.stanford.edu (snap.stanford.edu)... 171.64.75.80\n",
            "Connecting to snap.stanford.edu (snap.stanford.edu)|171.64.75.80|:80... connected.\n",
            "HTTP request sent, awaiting response... 200 OK\n",
            "Length: 621921656 (593M) [application/x-gzip]\n",
            "Saving to: ‘reviews_Sports_and_Outdoors.json.gz’\n",
            "\n",
            "reviews_Sports_and_ 100%[===================>] 593.11M  4.15MB/s    in 2m 36s  \n",
            "\n",
            "2019-04-03 13:31:36 (3.80 MB/s) - ‘reviews_Sports_and_Outdoors.json.gz’ saved [621921656/621921656]\n",
            "\n",
            "--2019-04-03 13:31:38--  http://snap.stanford.edu/data/amazon/productGraph/categoryFiles/reviews_Automotive.json.gz\n",
            "Resolving snap.stanford.edu (snap.stanford.edu)... 171.64.75.80\n",
            "Connecting to snap.stanford.edu (snap.stanford.edu)|171.64.75.80|:80... connected.\n",
            "HTTP request sent, awaiting response... 200 OK\n",
            "Length: 238464635 (227M) [application/x-gzip]\n",
            "Saving to: ‘reviews_Automotive.json.gz’\n",
            "\n",
            "reviews_Automotive. 100%[===================>] 227.42M  1.92MB/s    in 58s     \n",
            "\n",
            "2019-04-03 13:32:36 (3.92 MB/s) - ‘reviews_Automotive.json.gz’ saved [238464635/238464635]\n",
            "\n"
          ],
          "name": "stdout"
        }
      ]
    },
    {
      "metadata": {
        "id": "XbAXbq5-0thZ",
        "colab_type": "code",
        "outputId": "d3c3c616-8390-4a15-c4fe-befc0683216c",
        "colab": {
          "base_uri": "https://localhost:8080/",
          "height": 53
        }
      },
      "cell_type": "code",
      "source": [
        "ls"
      ],
      "execution_count": 9,
      "outputs": [
        {
          "output_type": "stream",
          "text": [
            "reviews_Automotive.json.gz                  reviews_Sports_and_Outdoors.json.gz\n",
            "reviews_Clothing_Shoes_and_Jewelry.json.gz  \u001b[0m\u001b[01;34msample_data\u001b[0m/\n"
          ],
          "name": "stdout"
        }
      ]
    },
    {
      "metadata": {
        "id": "5GvMH5w6yFh5",
        "colab_type": "code",
        "colab": {}
      },
      "cell_type": "code",
      "source": [
        "! gunzip reviews*.gz"
      ],
      "execution_count": 0,
      "outputs": []
    },
    {
      "metadata": {
        "scrolled": true,
        "id": "LUKAry1OxOEG",
        "colab_type": "code",
        "colab": {}
      },
      "cell_type": "code",
      "source": [
        "files_path = './'\n",
        "clothes = 'reviews_Clothing_Shoes_and_Jewelry.json'\n",
        "sports = 'reviews_Sports_and_Outdoors.json'\n",
        "automotive = 'reviews_Automotive.json'"
      ],
      "execution_count": 0,
      "outputs": []
    },
    {
      "metadata": {
        "id": "MT36i5OsxOEO",
        "colab_type": "code",
        "colab": {}
      },
      "cell_type": "code",
      "source": [
        "#df_automotive = pd.read_json(os.path.join(files_path, automotive), lines=True)\n",
        "df = pd.read_json(os.path.join(files_path, automotive), lines=True, chunksize = 20000)\n",
        "for df_automotive in df:\n",
        "  break"
      ],
      "execution_count": 0,
      "outputs": []
    },
    {
      "metadata": {
        "scrolled": true,
        "id": "TK8uFmsIxOEX",
        "colab_type": "code",
        "colab": {}
      },
      "cell_type": "code",
      "source": [
        "# df_clothes = pd.read_json(os.path.join(files_path, clothes), lines=True)\n",
        "df = pd.read_json(os.path.join(files_path, clothes), lines=True, chunksize = 20000)\n",
        "for df_clothes in df:\n",
        "  break"
      ],
      "execution_count": 0,
      "outputs": []
    },
    {
      "metadata": {
        "id": "awjn5-tZxOEf",
        "colab_type": "code",
        "colab": {}
      },
      "cell_type": "code",
      "source": [
        "# df_sports = pd.read_json(os.path.join(files_path, sports), lines=True)\n",
        "df = pd.read_json(os.path.join(files_path, sports), lines=True, chunksize = 20000)\n",
        "for df_sports in df:\n",
        "  break"
      ],
      "execution_count": 0,
      "outputs": []
    },
    {
      "metadata": {
        "scrolled": false,
        "id": "mCrf3VyvxOEl",
        "colab_type": "code",
        "outputId": "a6a6ade9-f629-40cb-de76-ffcc085cfc46",
        "colab": {
          "base_uri": "https://localhost:8080/",
          "height": 415
        }
      },
      "cell_type": "code",
      "source": [
        "print(df_automotive.shape)\n",
        "df_automotive.head()"
      ],
      "execution_count": 16,
      "outputs": [
        {
          "output_type": "stream",
          "text": [
            "(20000, 9)\n"
          ],
          "name": "stdout"
        },
        {
          "output_type": "execute_result",
          "data": {
            "text/html": [
              "<div>\n",
              "<style scoped>\n",
              "    .dataframe tbody tr th:only-of-type {\n",
              "        vertical-align: middle;\n",
              "    }\n",
              "\n",
              "    .dataframe tbody tr th {\n",
              "        vertical-align: top;\n",
              "    }\n",
              "\n",
              "    .dataframe thead th {\n",
              "        text-align: right;\n",
              "    }\n",
              "</style>\n",
              "<table border=\"1\" class=\"dataframe\">\n",
              "  <thead>\n",
              "    <tr style=\"text-align: right;\">\n",
              "      <th></th>\n",
              "      <th>asin</th>\n",
              "      <th>helpful</th>\n",
              "      <th>overall</th>\n",
              "      <th>reviewText</th>\n",
              "      <th>reviewTime</th>\n",
              "      <th>reviewerID</th>\n",
              "      <th>reviewerName</th>\n",
              "      <th>summary</th>\n",
              "      <th>unixReviewTime</th>\n",
              "    </tr>\n",
              "  </thead>\n",
              "  <tbody>\n",
              "    <tr>\n",
              "      <th>0</th>\n",
              "      <td>0219400083</td>\n",
              "      <td>[0, 0]</td>\n",
              "      <td>4</td>\n",
              "      <td>I loved the look and the great improvement at ...</td>\n",
              "      <td>08 17, 2013</td>\n",
              "      <td>A108J5O7DG2WIM</td>\n",
              "      <td>Julio Csar</td>\n",
              "      <td>Great improvement for my Spyder</td>\n",
              "      <td>1376697600</td>\n",
              "    </tr>\n",
              "    <tr>\n",
              "      <th>1</th>\n",
              "      <td>0715000322</td>\n",
              "      <td>[0, 0]</td>\n",
              "      <td>5</td>\n",
              "      <td>Put these on my 2011 can am outlander 800xt, e...</td>\n",
              "      <td>04 8, 2014</td>\n",
              "      <td>A1QBLUSZW281TA</td>\n",
              "      <td>Angelo Aresco</td>\n",
              "      <td>Warm and toasty hands</td>\n",
              "      <td>1396915200</td>\n",
              "    </tr>\n",
              "    <tr>\n",
              "      <th>2</th>\n",
              "      <td>0970408641</td>\n",
              "      <td>[1, 1]</td>\n",
              "      <td>1</td>\n",
              "      <td>Don't buy this item  , its not a 4 window roll...</td>\n",
              "      <td>03 19, 2012</td>\n",
              "      <td>A3B40ZIZJ3HEP7</td>\n",
              "      <td>derrick</td>\n",
              "      <td>garbage</td>\n",
              "      <td>1332115200</td>\n",
              "    </tr>\n",
              "    <tr>\n",
              "      <th>3</th>\n",
              "      <td>1940825172</td>\n",
              "      <td>[0, 0]</td>\n",
              "      <td>4</td>\n",
              "      <td>Nice. A decent model, and at a better price on...</td>\n",
              "      <td>07 7, 2014</td>\n",
              "      <td>A1DUAXYX5WHSX1</td>\n",
              "      <td>Craig Sheeley</td>\n",
              "      <td>Nice. A decent model</td>\n",
              "      <td>1404691200</td>\n",
              "    </tr>\n",
              "    <tr>\n",
              "      <th>4</th>\n",
              "      <td>2409862403</td>\n",
              "      <td>[0, 0]</td>\n",
              "      <td>4</td>\n",
              "      <td>I used this rating because I liked the key fob...</td>\n",
              "      <td>10 10, 2013</td>\n",
              "      <td>A1VS7YWE0NCAS3</td>\n",
              "      <td>DOC HOLLADAY</td>\n",
              "      <td>Good Key Remote Fob</td>\n",
              "      <td>1381363200</td>\n",
              "    </tr>\n",
              "  </tbody>\n",
              "</table>\n",
              "</div>"
            ],
            "text/plain": [
              "         asin helpful  overall  \\\n",
              "0  0219400083  [0, 0]        4   \n",
              "1  0715000322  [0, 0]        5   \n",
              "2  0970408641  [1, 1]        1   \n",
              "3  1940825172  [0, 0]        4   \n",
              "4  2409862403  [0, 0]        4   \n",
              "\n",
              "                                          reviewText   reviewTime  \\\n",
              "0  I loved the look and the great improvement at ...  08 17, 2013   \n",
              "1  Put these on my 2011 can am outlander 800xt, e...   04 8, 2014   \n",
              "2  Don't buy this item  , its not a 4 window roll...  03 19, 2012   \n",
              "3  Nice. A decent model, and at a better price on...   07 7, 2014   \n",
              "4  I used this rating because I liked the key fob...  10 10, 2013   \n",
              "\n",
              "       reviewerID   reviewerName                          summary  \\\n",
              "0  A108J5O7DG2WIM     Julio Csar  Great improvement for my Spyder   \n",
              "1  A1QBLUSZW281TA  Angelo Aresco            Warm and toasty hands   \n",
              "2  A3B40ZIZJ3HEP7        derrick                          garbage   \n",
              "3  A1DUAXYX5WHSX1  Craig Sheeley             Nice. A decent model   \n",
              "4  A1VS7YWE0NCAS3   DOC HOLLADAY              Good Key Remote Fob   \n",
              "\n",
              "   unixReviewTime  \n",
              "0      1376697600  \n",
              "1      1396915200  \n",
              "2      1332115200  \n",
              "3      1404691200  \n",
              "4      1381363200  "
            ]
          },
          "metadata": {
            "tags": []
          },
          "execution_count": 16
        }
      ]
    },
    {
      "metadata": {
        "scrolled": false,
        "id": "ZC6ncC7PxOEw",
        "colab_type": "code",
        "outputId": "d56153c4-1d82-44aa-ca78-973a534d7820",
        "colab": {
          "base_uri": "https://localhost:8080/",
          "height": 398
        }
      },
      "cell_type": "code",
      "source": [
        "print(df_clothes.shape)\n",
        "df_clothes.head()"
      ],
      "execution_count": 17,
      "outputs": [
        {
          "output_type": "stream",
          "text": [
            "(20000, 9)\n"
          ],
          "name": "stdout"
        },
        {
          "output_type": "execute_result",
          "data": {
            "text/html": [
              "<div>\n",
              "<style scoped>\n",
              "    .dataframe tbody tr th:only-of-type {\n",
              "        vertical-align: middle;\n",
              "    }\n",
              "\n",
              "    .dataframe tbody tr th {\n",
              "        vertical-align: top;\n",
              "    }\n",
              "\n",
              "    .dataframe thead th {\n",
              "        text-align: right;\n",
              "    }\n",
              "</style>\n",
              "<table border=\"1\" class=\"dataframe\">\n",
              "  <thead>\n",
              "    <tr style=\"text-align: right;\">\n",
              "      <th></th>\n",
              "      <th>asin</th>\n",
              "      <th>helpful</th>\n",
              "      <th>overall</th>\n",
              "      <th>reviewText</th>\n",
              "      <th>reviewTime</th>\n",
              "      <th>reviewerID</th>\n",
              "      <th>reviewerName</th>\n",
              "      <th>summary</th>\n",
              "      <th>unixReviewTime</th>\n",
              "    </tr>\n",
              "  </thead>\n",
              "  <tbody>\n",
              "    <tr>\n",
              "      <th>0</th>\n",
              "      <td>0000031887</td>\n",
              "      <td>[0, 0]</td>\n",
              "      <td>5</td>\n",
              "      <td>Perfect red tutu for the price. I baught it as...</td>\n",
              "      <td>11 4, 2013</td>\n",
              "      <td>A2XVJBSRI3SWDI</td>\n",
              "      <td>abigail</td>\n",
              "      <td>Nice tutu</td>\n",
              "      <td>1383523200</td>\n",
              "    </tr>\n",
              "    <tr>\n",
              "      <th>1</th>\n",
              "      <td>0000031887</td>\n",
              "      <td>[1, 1]</td>\n",
              "      <td>4</td>\n",
              "      <td>This was a really cute tutu the only problem i...</td>\n",
              "      <td>05 26, 2012</td>\n",
              "      <td>A2G0LNLN79Q6HR</td>\n",
              "      <td>aj_18 \"Aj_18\"</td>\n",
              "      <td>Really Cute but rather short.</td>\n",
              "      <td>1337990400</td>\n",
              "    </tr>\n",
              "    <tr>\n",
              "      <th>2</th>\n",
              "      <td>0000031887</td>\n",
              "      <td>[1, 1]</td>\n",
              "      <td>2</td>\n",
              "      <td>the tutu color was very nice. the only issue w...</td>\n",
              "      <td>02 17, 2013</td>\n",
              "      <td>A2R3K1KX09QBYP</td>\n",
              "      <td>alert consumer</td>\n",
              "      <td>not very good material.</td>\n",
              "      <td>1361059200</td>\n",
              "    </tr>\n",
              "    <tr>\n",
              "      <th>3</th>\n",
              "      <td>0000031887</td>\n",
              "      <td>[0, 1]</td>\n",
              "      <td>1</td>\n",
              "      <td>My 3-yr-old daughter received this as a gift f...</td>\n",
              "      <td>03 21, 2013</td>\n",
              "      <td>A19PBP93OF896</td>\n",
              "      <td>Alinna Satake \"Can't Stop Eating\"</td>\n",
              "      <td>Tiny and Poorly Constructed!</td>\n",
              "      <td>1363824000</td>\n",
              "    </tr>\n",
              "    <tr>\n",
              "      <th>4</th>\n",
              "      <td>0000031887</td>\n",
              "      <td>[0, 0]</td>\n",
              "      <td>4</td>\n",
              "      <td>Bought it for my daughters first birthday whic...</td>\n",
              "      <td>01 23, 2014</td>\n",
              "      <td>A1P0IHU93EF9ZK</td>\n",
              "      <td>Amanda</td>\n",
              "      <td>i love it</td>\n",
              "      <td>1390435200</td>\n",
              "    </tr>\n",
              "  </tbody>\n",
              "</table>\n",
              "</div>"
            ],
            "text/plain": [
              "         asin helpful  overall  \\\n",
              "0  0000031887  [0, 0]        5   \n",
              "1  0000031887  [1, 1]        4   \n",
              "2  0000031887  [1, 1]        2   \n",
              "3  0000031887  [0, 1]        1   \n",
              "4  0000031887  [0, 0]        4   \n",
              "\n",
              "                                          reviewText   reviewTime  \\\n",
              "0  Perfect red tutu for the price. I baught it as...   11 4, 2013   \n",
              "1  This was a really cute tutu the only problem i...  05 26, 2012   \n",
              "2  the tutu color was very nice. the only issue w...  02 17, 2013   \n",
              "3  My 3-yr-old daughter received this as a gift f...  03 21, 2013   \n",
              "4  Bought it for my daughters first birthday whic...  01 23, 2014   \n",
              "\n",
              "       reviewerID                       reviewerName  \\\n",
              "0  A2XVJBSRI3SWDI                            abigail   \n",
              "1  A2G0LNLN79Q6HR                      aj_18 \"Aj_18\"   \n",
              "2  A2R3K1KX09QBYP                     alert consumer   \n",
              "3   A19PBP93OF896  Alinna Satake \"Can't Stop Eating\"   \n",
              "4  A1P0IHU93EF9ZK                             Amanda   \n",
              "\n",
              "                         summary  unixReviewTime  \n",
              "0                      Nice tutu      1383523200  \n",
              "1  Really Cute but rather short.      1337990400  \n",
              "2        not very good material.      1361059200  \n",
              "3   Tiny and Poorly Constructed!      1363824000  \n",
              "4                      i love it      1390435200  "
            ]
          },
          "metadata": {
            "tags": []
          },
          "execution_count": 17
        }
      ]
    },
    {
      "metadata": {
        "scrolled": true,
        "id": "o5vMYA1WxOE8",
        "colab_type": "code",
        "outputId": "24f4cfcd-42a9-4d00-ff6f-d018f45245bd",
        "colab": {
          "base_uri": "https://localhost:8080/",
          "height": 450
        }
      },
      "cell_type": "code",
      "source": [
        "print(df_sports.shape)\n",
        "df_sports.head()"
      ],
      "execution_count": 18,
      "outputs": [
        {
          "output_type": "stream",
          "text": [
            "(20000, 9)\n"
          ],
          "name": "stdout"
        },
        {
          "output_type": "execute_result",
          "data": {
            "text/html": [
              "<div>\n",
              "<style scoped>\n",
              "    .dataframe tbody tr th:only-of-type {\n",
              "        vertical-align: middle;\n",
              "    }\n",
              "\n",
              "    .dataframe tbody tr th {\n",
              "        vertical-align: top;\n",
              "    }\n",
              "\n",
              "    .dataframe thead th {\n",
              "        text-align: right;\n",
              "    }\n",
              "</style>\n",
              "<table border=\"1\" class=\"dataframe\">\n",
              "  <thead>\n",
              "    <tr style=\"text-align: right;\">\n",
              "      <th></th>\n",
              "      <th>asin</th>\n",
              "      <th>helpful</th>\n",
              "      <th>overall</th>\n",
              "      <th>reviewText</th>\n",
              "      <th>reviewTime</th>\n",
              "      <th>reviewerID</th>\n",
              "      <th>reviewerName</th>\n",
              "      <th>summary</th>\n",
              "      <th>unixReviewTime</th>\n",
              "    </tr>\n",
              "  </thead>\n",
              "  <tbody>\n",
              "    <tr>\n",
              "      <th>0</th>\n",
              "      <td>0000031852</td>\n",
              "      <td>[0, 0]</td>\n",
              "      <td>4</td>\n",
              "      <td>Tutus are cute but a little thin. Can't compla...</td>\n",
              "      <td>12 29, 2013</td>\n",
              "      <td>A3PMSRCL80KSA1</td>\n",
              "      <td>Dee</td>\n",
              "      <td>Not bad</td>\n",
              "      <td>1388275200</td>\n",
              "    </tr>\n",
              "    <tr>\n",
              "      <th>1</th>\n",
              "      <td>0000031852</td>\n",
              "      <td>[0, 0]</td>\n",
              "      <td>4</td>\n",
              "      <td>I origonally didn't get the item I ordered.  W...</td>\n",
              "      <td>02 21, 2014</td>\n",
              "      <td>A1SNLWGLFXD70K</td>\n",
              "      <td>DEVA</td>\n",
              "      <td>Happy with purchase even though it came a lot ...</td>\n",
              "      <td>1392940800</td>\n",
              "    </tr>\n",
              "    <tr>\n",
              "      <th>2</th>\n",
              "      <td>0000031852</td>\n",
              "      <td>[0, 0]</td>\n",
              "      <td>4</td>\n",
              "      <td>Arrived very timely, cute grandbaby loves it. ...</td>\n",
              "      <td>01 14, 2014</td>\n",
              "      <td>A1KJ4CVG87QW09</td>\n",
              "      <td>Donna Carter-Scott</td>\n",
              "      <td>Cute Tutu</td>\n",
              "      <td>1389657600</td>\n",
              "    </tr>\n",
              "    <tr>\n",
              "      <th>3</th>\n",
              "      <td>0000031852</td>\n",
              "      <td>[0, 0]</td>\n",
              "      <td>5</td>\n",
              "      <td>My little girl just loves to wear this tutu be...</td>\n",
              "      <td>05 8, 2014</td>\n",
              "      <td>AA9ITO6ZLZW6</td>\n",
              "      <td>Jazzy77</td>\n",
              "      <td>Versatile</td>\n",
              "      <td>1399507200</td>\n",
              "    </tr>\n",
              "    <tr>\n",
              "      <th>4</th>\n",
              "      <td>0000031852</td>\n",
              "      <td>[0, 0]</td>\n",
              "      <td>1</td>\n",
              "      <td>I bought this for my 3 yr old daughter when I ...</td>\n",
              "      <td>04 27, 2014</td>\n",
              "      <td>APJ5ULJ1RMZ4</td>\n",
              "      <td>kesha wallace</td>\n",
              "      <td>Would not recommend</td>\n",
              "      <td>1398556800</td>\n",
              "    </tr>\n",
              "  </tbody>\n",
              "</table>\n",
              "</div>"
            ],
            "text/plain": [
              "         asin helpful  overall  \\\n",
              "0  0000031852  [0, 0]        4   \n",
              "1  0000031852  [0, 0]        4   \n",
              "2  0000031852  [0, 0]        4   \n",
              "3  0000031852  [0, 0]        5   \n",
              "4  0000031852  [0, 0]        1   \n",
              "\n",
              "                                          reviewText   reviewTime  \\\n",
              "0  Tutus are cute but a little thin. Can't compla...  12 29, 2013   \n",
              "1  I origonally didn't get the item I ordered.  W...  02 21, 2014   \n",
              "2  Arrived very timely, cute grandbaby loves it. ...  01 14, 2014   \n",
              "3  My little girl just loves to wear this tutu be...   05 8, 2014   \n",
              "4  I bought this for my 3 yr old daughter when I ...  04 27, 2014   \n",
              "\n",
              "       reviewerID        reviewerName  \\\n",
              "0  A3PMSRCL80KSA1                 Dee   \n",
              "1  A1SNLWGLFXD70K                DEVA   \n",
              "2  A1KJ4CVG87QW09  Donna Carter-Scott   \n",
              "3    AA9ITO6ZLZW6             Jazzy77   \n",
              "4    APJ5ULJ1RMZ4       kesha wallace   \n",
              "\n",
              "                                             summary  unixReviewTime  \n",
              "0                                            Not bad      1388275200  \n",
              "1  Happy with purchase even though it came a lot ...      1392940800  \n",
              "2                                          Cute Tutu      1389657600  \n",
              "3                                          Versatile      1399507200  \n",
              "4                                Would not recommend      1398556800  "
            ]
          },
          "metadata": {
            "tags": []
          },
          "execution_count": 18
        }
      ]
    },
    {
      "metadata": {
        "id": "YhIumFEFxOFQ",
        "colab_type": "text"
      },
      "cell_type": "markdown",
      "source": [
        "# Normalize the reviews"
      ]
    },
    {
      "metadata": {
        "id": "QTnEAA8bxOFV",
        "colab_type": "code",
        "colab": {}
      },
      "cell_type": "code",
      "source": [
        "sample_size = 20000\n",
        "reviews_automotive = df_automotive['reviewText'].sample(sample_size)\n",
        "reviews_clothes = df_clothes['reviewText'].sample(sample_size)\n",
        "reviews_sports = df_sports['reviewText'].sample(sample_size)"
      ],
      "execution_count": 0,
      "outputs": []
    },
    {
      "metadata": {
        "id": "-4y1J7-GxOFf",
        "colab_type": "code",
        "colab": {}
      },
      "cell_type": "code",
      "source": [
        "def remove_punctuation(tokens, keep_apostrophe=False):\n",
        "    return [re.sub(r'[^a-zA-Z0-9]', r' ', token) for token in tokens]"
      ],
      "execution_count": 0,
      "outputs": []
    },
    {
      "metadata": {
        "id": "tENFw7kmxOFk",
        "colab_type": "code",
        "colab": {}
      },
      "cell_type": "code",
      "source": [
        "def remove_accents(tokens):\n",
        "    tokens = [unidecode.unidecode(token) for token in tokens]\n",
        "    return(tokens)"
      ],
      "execution_count": 0,
      "outputs": []
    },
    {
      "metadata": {
        "id": "w6hKbpJyxOFs",
        "colab_type": "code",
        "colab": {}
      },
      "cell_type": "code",
      "source": [
        "def normalize_reviews(reviews, stopwords_list):\n",
        "    reviews_processed = list()\n",
        "    for review in reviews:\n",
        "        # Tokenize reviews\n",
        "        tokens = word_tokenize(review)\n",
        "        \n",
        "        # Remove punctuation\n",
        "        tokens = remove_punctuation(tokens)\n",
        "        \n",
        "        # Remove accents\n",
        "        tokens = remove_accents(tokens)\n",
        "        \n",
        "        # Remove stopwords\n",
        "        tokens = [token for token in tokens if token not in stopwords_list]\n",
        "        \n",
        "        # Remove blanks, conevrt to lower case and replace numbers by words\n",
        "        tokens = [num2words(int(token.strip().lower()), lang='en') if token.isdigit()\n",
        "                  else token.strip().lower()\n",
        "                  for token in tokens]\n",
        "        \n",
        "        reviews_processed.append(tokens)\n",
        "    return reviews_processed"
      ],
      "execution_count": 0,
      "outputs": []
    },
    {
      "metadata": {
        "id": "R0nXpiqCxOFz",
        "colab_type": "code",
        "colab": {}
      },
      "cell_type": "code",
      "source": [
        "stopwords_list = stopwords.words('english')"
      ],
      "execution_count": 0,
      "outputs": []
    },
    {
      "metadata": {
        "id": "_4W6oyz5xOF5",
        "colab_type": "code",
        "colab": {}
      },
      "cell_type": "code",
      "source": [
        "reviews_automotive_processed = normalize_reviews(reviews=reviews_automotive, stopwords_list=stopwords_list)"
      ],
      "execution_count": 0,
      "outputs": []
    },
    {
      "metadata": {
        "scrolled": true,
        "id": "hD4yzDv1xOF_",
        "colab_type": "code",
        "colab": {}
      },
      "cell_type": "code",
      "source": [
        "reviews_clothes_processed = normalize_reviews(reviews=reviews_clothes, stopwords_list=stopwords_list)"
      ],
      "execution_count": 0,
      "outputs": []
    },
    {
      "metadata": {
        "id": "0FYhTQB6xOGF",
        "colab_type": "code",
        "colab": {}
      },
      "cell_type": "code",
      "source": [
        "reviews_sports_processed = normalize_reviews(reviews=reviews_sports, stopwords_list=stopwords_list)"
      ],
      "execution_count": 0,
      "outputs": []
    },
    {
      "metadata": {
        "id": "Qj4JgY_AxOGR",
        "colab_type": "text"
      },
      "cell_type": "markdown",
      "source": [
        "# Word Embeddings"
      ]
    },
    {
      "metadata": {
        "id": "vDlFLv-YxOGX",
        "colab_type": "code",
        "colab": {
          "base_uri": "https://localhost:8080/",
          "height": 35
        },
        "outputId": "5061f8bc-05d4-458e-df64-4919279ac31e"
      },
      "cell_type": "code",
      "source": [
        "import logging\n",
        "logging.basicConfig(format='%(asctime)s : %(levelname)s : %(message)s', level=logging.INFO)\n",
        "import gensim"
      ],
      "execution_count": 33,
      "outputs": [
        {
          "output_type": "stream",
          "text": [
            "2019-04-03 13:37:06,909 : INFO : 'pattern' package not found; tag filters are not available for English\n"
          ],
          "name": "stderr"
        }
      ]
    },
    {
      "metadata": {
        "scrolled": true,
        "id": "060uGf93xOGe",
        "colab_type": "code",
        "outputId": "7128c8d9-d1d3-4984-de54-ad250d60aa5d",
        "colab": {
          "base_uri": "https://localhost:8080/",
          "height": 3659
        }
      },
      "cell_type": "code",
      "source": [
        "# Training the Word2Vec model for automotive reviews\n",
        "model_automotive = gensim.models.Word2Vec(\n",
        "    reviews_automotive_processed,\n",
        "    size=150,\n",
        "    window=10,\n",
        "    min_count=2,\n",
        "    workers=10\n",
        ")\n",
        "model_automotive.train(reviews_automotive_processed, total_examples=len(reviews_automotive_processed), epochs=10)"
      ],
      "execution_count": 34,
      "outputs": [
        {
          "output_type": "stream",
          "text": [
            "2019-04-03 13:37:10,395 : WARNING : consider setting layer size to a multiple of 4 for greater performance\n",
            "2019-04-03 13:37:10,399 : INFO : collecting all words and their counts\n",
            "2019-04-03 13:37:10,400 : INFO : PROGRESS: at sentence #0, processed 0 words, keeping 0 word types\n",
            "2019-04-03 13:37:10,522 : INFO : PROGRESS: at sentence #10000, processed 448403 words, keeping 23709 word types\n",
            "2019-04-03 13:37:10,640 : INFO : collected 35592 word types from a corpus of 889059 raw words and 20000 sentences\n",
            "2019-04-03 13:37:10,642 : INFO : Loading a fresh vocabulary\n",
            "2019-04-03 13:37:10,869 : INFO : effective_min_count=2 retains 14902 unique words (41% of original 35592, drops 20690)\n",
            "2019-04-03 13:37:10,871 : INFO : effective_min_count=2 leaves 868369 word corpus (97% of original 889059, drops 20690)\n",
            "2019-04-03 13:37:10,913 : INFO : deleting the raw counts dictionary of 35592 items\n",
            "2019-04-03 13:37:10,916 : INFO : sample=0.001 downsamples 25 most-common words\n",
            "2019-04-03 13:37:10,917 : INFO : downsampling leaves estimated 664234 word corpus (76.5% of prior 868369)\n",
            "2019-04-03 13:37:10,955 : INFO : estimated required memory for 14902 words and 150 dimensions: 25333400 bytes\n",
            "2019-04-03 13:37:10,957 : INFO : resetting layer weights\n",
            "2019-04-03 13:37:11,127 : INFO : training model with 10 workers on 14902 vocabulary and 150 features, using sg=0 hs=0 sample=0.001 negative=5 window=10\n",
            "2019-04-03 13:37:12,153 : INFO : EPOCH 1 - PROGRESS: at 66.56% examples, 440027 words/s, in_qsize 19, out_qsize 0\n",
            "2019-04-03 13:37:12,445 : INFO : worker thread finished; awaiting finish of 9 more threads\n",
            "2019-04-03 13:37:12,461 : INFO : worker thread finished; awaiting finish of 8 more threads\n",
            "2019-04-03 13:37:12,512 : INFO : worker thread finished; awaiting finish of 7 more threads\n",
            "2019-04-03 13:37:12,528 : INFO : worker thread finished; awaiting finish of 6 more threads\n",
            "2019-04-03 13:37:12,531 : INFO : worker thread finished; awaiting finish of 5 more threads\n",
            "2019-04-03 13:37:12,546 : INFO : worker thread finished; awaiting finish of 4 more threads\n",
            "2019-04-03 13:37:12,547 : INFO : worker thread finished; awaiting finish of 3 more threads\n",
            "2019-04-03 13:37:12,549 : INFO : worker thread finished; awaiting finish of 2 more threads\n",
            "2019-04-03 13:37:12,552 : INFO : worker thread finished; awaiting finish of 1 more threads\n",
            "2019-04-03 13:37:12,561 : INFO : worker thread finished; awaiting finish of 0 more threads\n",
            "2019-04-03 13:37:12,562 : INFO : EPOCH - 1 : training on 889059 raw words (664074 effective words) took 1.4s, 466681 effective words/s\n",
            "2019-04-03 13:37:13,627 : INFO : EPOCH 2 - PROGRESS: at 54.32% examples, 345817 words/s, in_qsize 20, out_qsize 1\n",
            "2019-04-03 13:37:14,209 : INFO : worker thread finished; awaiting finish of 9 more threads\n",
            "2019-04-03 13:37:14,212 : INFO : worker thread finished; awaiting finish of 8 more threads\n",
            "2019-04-03 13:37:14,224 : INFO : worker thread finished; awaiting finish of 7 more threads\n",
            "2019-04-03 13:37:14,234 : INFO : worker thread finished; awaiting finish of 6 more threads\n",
            "2019-04-03 13:37:14,285 : INFO : worker thread finished; awaiting finish of 5 more threads\n",
            "2019-04-03 13:37:14,297 : INFO : worker thread finished; awaiting finish of 4 more threads\n",
            "2019-04-03 13:37:14,298 : INFO : worker thread finished; awaiting finish of 3 more threads\n",
            "2019-04-03 13:37:14,310 : INFO : worker thread finished; awaiting finish of 2 more threads\n",
            "2019-04-03 13:37:14,316 : INFO : worker thread finished; awaiting finish of 1 more threads\n",
            "2019-04-03 13:37:14,322 : INFO : worker thread finished; awaiting finish of 0 more threads\n",
            "2019-04-03 13:37:14,323 : INFO : EPOCH - 2 : training on 889059 raw words (664230 effective words) took 1.7s, 379914 effective words/s\n",
            "2019-04-03 13:37:15,341 : INFO : EPOCH 3 - PROGRESS: at 52.08% examples, 348244 words/s, in_qsize 19, out_qsize 0\n",
            "2019-04-03 13:37:16,005 : INFO : worker thread finished; awaiting finish of 9 more threads\n",
            "2019-04-03 13:37:16,008 : INFO : worker thread finished; awaiting finish of 8 more threads\n",
            "2019-04-03 13:37:16,009 : INFO : worker thread finished; awaiting finish of 7 more threads\n",
            "2019-04-03 13:37:16,017 : INFO : worker thread finished; awaiting finish of 6 more threads\n",
            "2019-04-03 13:37:16,031 : INFO : worker thread finished; awaiting finish of 5 more threads\n",
            "2019-04-03 13:37:16,037 : INFO : worker thread finished; awaiting finish of 4 more threads\n",
            "2019-04-03 13:37:16,049 : INFO : worker thread finished; awaiting finish of 3 more threads\n",
            "2019-04-03 13:37:16,062 : INFO : worker thread finished; awaiting finish of 2 more threads\n",
            "2019-04-03 13:37:16,067 : INFO : worker thread finished; awaiting finish of 1 more threads\n",
            "2019-04-03 13:37:16,083 : INFO : worker thread finished; awaiting finish of 0 more threads\n",
            "2019-04-03 13:37:16,084 : INFO : EPOCH - 3 : training on 889059 raw words (664099 effective words) took 1.7s, 380224 effective words/s\n",
            "2019-04-03 13:37:17,136 : INFO : EPOCH 4 - PROGRESS: at 52.25% examples, 335472 words/s, in_qsize 18, out_qsize 1\n",
            "2019-04-03 13:37:17,701 : INFO : worker thread finished; awaiting finish of 9 more threads\n",
            "2019-04-03 13:37:17,750 : INFO : worker thread finished; awaiting finish of 8 more threads\n",
            "2019-04-03 13:37:17,766 : INFO : worker thread finished; awaiting finish of 7 more threads\n",
            "2019-04-03 13:37:17,775 : INFO : worker thread finished; awaiting finish of 6 more threads\n",
            "2019-04-03 13:37:17,794 : INFO : worker thread finished; awaiting finish of 5 more threads\n",
            "2019-04-03 13:37:17,799 : INFO : worker thread finished; awaiting finish of 4 more threads\n",
            "2019-04-03 13:37:17,809 : INFO : worker thread finished; awaiting finish of 3 more threads\n",
            "2019-04-03 13:37:17,822 : INFO : worker thread finished; awaiting finish of 2 more threads\n",
            "2019-04-03 13:37:17,826 : INFO : worker thread finished; awaiting finish of 1 more threads\n",
            "2019-04-03 13:37:17,832 : INFO : worker thread finished; awaiting finish of 0 more threads\n",
            "2019-04-03 13:37:17,833 : INFO : EPOCH - 4 : training on 889059 raw words (664211 effective words) took 1.7s, 382106 effective words/s\n",
            "2019-04-03 13:37:18,870 : INFO : EPOCH 5 - PROGRESS: at 51.04% examples, 334092 words/s, in_qsize 19, out_qsize 0\n",
            "2019-04-03 13:37:19,501 : INFO : worker thread finished; awaiting finish of 9 more threads\n",
            "2019-04-03 13:37:19,505 : INFO : worker thread finished; awaiting finish of 8 more threads\n",
            "2019-04-03 13:37:19,510 : INFO : worker thread finished; awaiting finish of 7 more threads\n",
            "2019-04-03 13:37:19,518 : INFO : worker thread finished; awaiting finish of 6 more threads\n",
            "2019-04-03 13:37:19,524 : INFO : worker thread finished; awaiting finish of 5 more threads\n",
            "2019-04-03 13:37:19,541 : INFO : worker thread finished; awaiting finish of 4 more threads\n",
            "2019-04-03 13:37:19,559 : INFO : worker thread finished; awaiting finish of 3 more threads\n",
            "2019-04-03 13:37:19,574 : INFO : worker thread finished; awaiting finish of 2 more threads\n",
            "2019-04-03 13:37:19,578 : INFO : worker thread finished; awaiting finish of 1 more threads\n",
            "2019-04-03 13:37:19,591 : INFO : worker thread finished; awaiting finish of 0 more threads\n",
            "2019-04-03 13:37:19,592 : INFO : EPOCH - 5 : training on 889059 raw words (664615 effective words) took 1.7s, 380897 effective words/s\n",
            "2019-04-03 13:37:19,593 : INFO : training on a 4445295 raw words (3321229 effective words) took 8.5s, 392357 effective words/s\n",
            "2019-04-03 13:37:19,595 : WARNING : Effective 'alpha' higher than previous training cycles\n",
            "2019-04-03 13:37:19,597 : INFO : training model with 10 workers on 14902 vocabulary and 150 features, using sg=0 hs=0 sample=0.001 negative=5 window=10\n",
            "2019-04-03 13:37:20,665 : INFO : EPOCH 1 - PROGRESS: at 52.08% examples, 332311 words/s, in_qsize 19, out_qsize 0\n",
            "2019-04-03 13:37:21,282 : INFO : worker thread finished; awaiting finish of 9 more threads\n",
            "2019-04-03 13:37:21,299 : INFO : worker thread finished; awaiting finish of 8 more threads\n",
            "2019-04-03 13:37:21,306 : INFO : worker thread finished; awaiting finish of 7 more threads\n",
            "2019-04-03 13:37:21,320 : INFO : worker thread finished; awaiting finish of 6 more threads\n",
            "2019-04-03 13:37:21,326 : INFO : worker thread finished; awaiting finish of 5 more threads\n",
            "2019-04-03 13:37:21,335 : INFO : worker thread finished; awaiting finish of 4 more threads\n",
            "2019-04-03 13:37:21,339 : INFO : worker thread finished; awaiting finish of 3 more threads\n",
            "2019-04-03 13:37:21,350 : INFO : worker thread finished; awaiting finish of 2 more threads\n",
            "2019-04-03 13:37:21,352 : INFO : worker thread finished; awaiting finish of 1 more threads\n",
            "2019-04-03 13:37:21,363 : INFO : worker thread finished; awaiting finish of 0 more threads\n",
            "2019-04-03 13:37:21,365 : INFO : EPOCH - 1 : training on 889059 raw words (664328 effective words) took 1.8s, 379330 effective words/s\n",
            "2019-04-03 13:37:22,447 : INFO : EPOCH 2 - PROGRESS: at 51.09% examples, 322929 words/s, in_qsize 19, out_qsize 5\n",
            "2019-04-03 13:37:23,052 : INFO : worker thread finished; awaiting finish of 9 more threads\n",
            "2019-04-03 13:37:23,055 : INFO : worker thread finished; awaiting finish of 8 more threads\n",
            "2019-04-03 13:37:23,063 : INFO : worker thread finished; awaiting finish of 7 more threads\n",
            "2019-04-03 13:37:23,073 : INFO : worker thread finished; awaiting finish of 6 more threads\n",
            "2019-04-03 13:37:23,076 : INFO : worker thread finished; awaiting finish of 5 more threads\n",
            "2019-04-03 13:37:23,086 : INFO : worker thread finished; awaiting finish of 4 more threads\n",
            "2019-04-03 13:37:23,090 : INFO : worker thread finished; awaiting finish of 3 more threads\n",
            "2019-04-03 13:37:23,092 : INFO : worker thread finished; awaiting finish of 2 more threads\n",
            "2019-04-03 13:37:23,096 : INFO : worker thread finished; awaiting finish of 1 more threads\n",
            "2019-04-03 13:37:23,119 : INFO : worker thread finished; awaiting finish of 0 more threads\n",
            "2019-04-03 13:37:23,121 : INFO : EPOCH - 2 : training on 889059 raw words (664506 effective words) took 1.7s, 381500 effective words/s\n",
            "2019-04-03 13:37:24,203 : INFO : EPOCH 3 - PROGRESS: at 53.11% examples, 339752 words/s, in_qsize 16, out_qsize 3\n",
            "2019-04-03 13:37:24,801 : INFO : worker thread finished; awaiting finish of 9 more threads\n",
            "2019-04-03 13:37:24,823 : INFO : worker thread finished; awaiting finish of 8 more threads\n",
            "2019-04-03 13:37:24,830 : INFO : worker thread finished; awaiting finish of 7 more threads\n",
            "2019-04-03 13:37:24,833 : INFO : worker thread finished; awaiting finish of 6 more threads\n",
            "2019-04-03 13:37:24,836 : INFO : worker thread finished; awaiting finish of 5 more threads\n",
            "2019-04-03 13:37:24,840 : INFO : worker thread finished; awaiting finish of 4 more threads\n",
            "2019-04-03 13:37:24,844 : INFO : worker thread finished; awaiting finish of 3 more threads\n",
            "2019-04-03 13:37:24,849 : INFO : worker thread finished; awaiting finish of 2 more threads\n",
            "2019-04-03 13:37:24,858 : INFO : worker thread finished; awaiting finish of 1 more threads\n",
            "2019-04-03 13:37:24,876 : INFO : worker thread finished; awaiting finish of 0 more threads\n",
            "2019-04-03 13:37:24,878 : INFO : EPOCH - 3 : training on 889059 raw words (663988 effective words) took 1.7s, 385096 effective words/s\n",
            "2019-04-03 13:37:25,917 : INFO : EPOCH 4 - PROGRESS: at 52.12% examples, 340716 words/s, in_qsize 18, out_qsize 1\n",
            "2019-04-03 13:37:26,525 : INFO : worker thread finished; awaiting finish of 9 more threads\n",
            "2019-04-03 13:37:26,540 : INFO : worker thread finished; awaiting finish of 8 more threads\n",
            "2019-04-03 13:37:26,548 : INFO : worker thread finished; awaiting finish of 7 more threads\n",
            "2019-04-03 13:37:26,579 : INFO : worker thread finished; awaiting finish of 6 more threads\n",
            "2019-04-03 13:37:26,584 : INFO : worker thread finished; awaiting finish of 5 more threads\n",
            "2019-04-03 13:37:26,623 : INFO : worker thread finished; awaiting finish of 4 more threads\n",
            "2019-04-03 13:37:26,631 : INFO : worker thread finished; awaiting finish of 3 more threads\n",
            "2019-04-03 13:37:26,636 : INFO : worker thread finished; awaiting finish of 2 more threads\n",
            "2019-04-03 13:37:26,650 : INFO : worker thread finished; awaiting finish of 1 more threads\n",
            "2019-04-03 13:37:26,652 : INFO : worker thread finished; awaiting finish of 0 more threads\n",
            "2019-04-03 13:37:26,653 : INFO : EPOCH - 4 : training on 889059 raw words (664122 effective words) took 1.8s, 376999 effective words/s\n",
            "2019-04-03 13:37:27,709 : INFO : EPOCH 5 - PROGRESS: at 51.04% examples, 332910 words/s, in_qsize 19, out_qsize 1\n",
            "2019-04-03 13:37:28,318 : INFO : worker thread finished; awaiting finish of 9 more threads\n",
            "2019-04-03 13:37:28,341 : INFO : worker thread finished; awaiting finish of 8 more threads\n",
            "2019-04-03 13:37:28,365 : INFO : worker thread finished; awaiting finish of 7 more threads\n",
            "2019-04-03 13:37:28,375 : INFO : worker thread finished; awaiting finish of 6 more threads\n",
            "2019-04-03 13:37:28,381 : INFO : worker thread finished; awaiting finish of 5 more threads\n",
            "2019-04-03 13:37:28,389 : INFO : worker thread finished; awaiting finish of 4 more threads\n",
            "2019-04-03 13:37:28,407 : INFO : worker thread finished; awaiting finish of 3 more threads\n",
            "2019-04-03 13:37:28,414 : INFO : worker thread finished; awaiting finish of 2 more threads\n",
            "2019-04-03 13:37:28,421 : INFO : worker thread finished; awaiting finish of 1 more threads\n",
            "2019-04-03 13:37:28,429 : INFO : worker thread finished; awaiting finish of 0 more threads\n",
            "2019-04-03 13:37:28,430 : INFO : EPOCH - 5 : training on 889059 raw words (664285 effective words) took 1.8s, 377203 effective words/s\n",
            "2019-04-03 13:37:29,482 : INFO : EPOCH 6 - PROGRESS: at 51.12% examples, 328924 words/s, in_qsize 19, out_qsize 0\n",
            "2019-04-03 13:37:30,122 : INFO : worker thread finished; awaiting finish of 9 more threads\n",
            "2019-04-03 13:37:30,135 : INFO : worker thread finished; awaiting finish of 8 more threads\n",
            "2019-04-03 13:37:30,139 : INFO : worker thread finished; awaiting finish of 7 more threads\n",
            "2019-04-03 13:37:30,142 : INFO : worker thread finished; awaiting finish of 6 more threads\n",
            "2019-04-03 13:37:30,146 : INFO : worker thread finished; awaiting finish of 5 more threads\n",
            "2019-04-03 13:37:30,151 : INFO : worker thread finished; awaiting finish of 4 more threads\n",
            "2019-04-03 13:37:30,155 : INFO : worker thread finished; awaiting finish of 3 more threads\n",
            "2019-04-03 13:37:30,156 : INFO : worker thread finished; awaiting finish of 2 more threads\n",
            "2019-04-03 13:37:30,158 : INFO : worker thread finished; awaiting finish of 1 more threads\n",
            "2019-04-03 13:37:30,174 : INFO : worker thread finished; awaiting finish of 0 more threads\n",
            "2019-04-03 13:37:30,177 : INFO : EPOCH - 6 : training on 889059 raw words (664171 effective words) took 1.7s, 383240 effective words/s\n",
            "2019-04-03 13:37:31,216 : INFO : EPOCH 7 - PROGRESS: at 51.04% examples, 334254 words/s, in_qsize 19, out_qsize 0\n",
            "2019-04-03 13:37:31,843 : INFO : worker thread finished; awaiting finish of 9 more threads\n",
            "2019-04-03 13:37:31,855 : INFO : worker thread finished; awaiting finish of 8 more threads\n",
            "2019-04-03 13:37:31,871 : INFO : worker thread finished; awaiting finish of 7 more threads\n",
            "2019-04-03 13:37:31,880 : INFO : worker thread finished; awaiting finish of 6 more threads\n",
            "2019-04-03 13:37:31,896 : INFO : worker thread finished; awaiting finish of 5 more threads\n",
            "2019-04-03 13:37:31,898 : INFO : worker thread finished; awaiting finish of 4 more threads\n",
            "2019-04-03 13:37:31,906 : INFO : worker thread finished; awaiting finish of 3 more threads\n",
            "2019-04-03 13:37:31,927 : INFO : worker thread finished; awaiting finish of 2 more threads\n",
            "2019-04-03 13:37:31,934 : INFO : worker thread finished; awaiting finish of 1 more threads\n",
            "2019-04-03 13:37:31,942 : INFO : worker thread finished; awaiting finish of 0 more threads\n",
            "2019-04-03 13:37:31,943 : INFO : EPOCH - 7 : training on 889059 raw words (664165 effective words) took 1.7s, 379586 effective words/s\n",
            "2019-04-03 13:37:32,992 : INFO : EPOCH 8 - PROGRESS: at 52.08% examples, 337229 words/s, in_qsize 19, out_qsize 0\n",
            "2019-04-03 13:37:33,616 : INFO : worker thread finished; awaiting finish of 9 more threads\n",
            "2019-04-03 13:37:33,649 : INFO : worker thread finished; awaiting finish of 8 more threads\n",
            "2019-04-03 13:37:33,654 : INFO : worker thread finished; awaiting finish of 7 more threads\n",
            "2019-04-03 13:37:33,660 : INFO : worker thread finished; awaiting finish of 6 more threads\n",
            "2019-04-03 13:37:33,670 : INFO : worker thread finished; awaiting finish of 5 more threads\n",
            "2019-04-03 13:37:33,675 : INFO : worker thread finished; awaiting finish of 4 more threads\n",
            "2019-04-03 13:37:33,690 : INFO : worker thread finished; awaiting finish of 3 more threads\n",
            "2019-04-03 13:37:33,691 : INFO : worker thread finished; awaiting finish of 2 more threads\n",
            "2019-04-03 13:37:33,694 : INFO : worker thread finished; awaiting finish of 1 more threads\n",
            "2019-04-03 13:37:33,706 : INFO : worker thread finished; awaiting finish of 0 more threads\n",
            "2019-04-03 13:37:33,707 : INFO : EPOCH - 8 : training on 889059 raw words (663578 effective words) took 1.7s, 379193 effective words/s\n",
            "2019-04-03 13:37:34,729 : INFO : EPOCH 9 - PROGRESS: at 49.84% examples, 331431 words/s, in_qsize 19, out_qsize 0\n",
            "2019-04-03 13:37:35,372 : INFO : worker thread finished; awaiting finish of 9 more threads\n",
            "2019-04-03 13:37:35,383 : INFO : worker thread finished; awaiting finish of 8 more threads\n",
            "2019-04-03 13:37:35,390 : INFO : worker thread finished; awaiting finish of 7 more threads\n",
            "2019-04-03 13:37:35,392 : INFO : worker thread finished; awaiting finish of 6 more threads\n",
            "2019-04-03 13:37:35,394 : INFO : worker thread finished; awaiting finish of 5 more threads\n",
            "2019-04-03 13:37:35,418 : INFO : worker thread finished; awaiting finish of 4 more threads\n",
            "2019-04-03 13:37:35,427 : INFO : worker thread finished; awaiting finish of 3 more threads\n",
            "2019-04-03 13:37:35,435 : INFO : worker thread finished; awaiting finish of 2 more threads\n",
            "2019-04-03 13:37:35,439 : INFO : worker thread finished; awaiting finish of 1 more threads\n",
            "2019-04-03 13:37:35,453 : INFO : worker thread finished; awaiting finish of 0 more threads\n",
            "2019-04-03 13:37:35,455 : INFO : EPOCH - 9 : training on 889059 raw words (663840 effective words) took 1.7s, 382776 effective words/s\n",
            "2019-04-03 13:37:36,479 : INFO : EPOCH 10 - PROGRESS: at 51.04% examples, 338400 words/s, in_qsize 19, out_qsize 0\n",
            "2019-04-03 13:37:37,117 : INFO : worker thread finished; awaiting finish of 9 more threads\n",
            "2019-04-03 13:37:37,149 : INFO : worker thread finished; awaiting finish of 8 more threads\n",
            "2019-04-03 13:37:37,163 : INFO : worker thread finished; awaiting finish of 7 more threads\n",
            "2019-04-03 13:37:37,172 : INFO : worker thread finished; awaiting finish of 6 more threads\n",
            "2019-04-03 13:37:37,175 : INFO : worker thread finished; awaiting finish of 5 more threads\n",
            "2019-04-03 13:37:37,178 : INFO : worker thread finished; awaiting finish of 4 more threads\n",
            "2019-04-03 13:37:37,180 : INFO : worker thread finished; awaiting finish of 3 more threads\n",
            "2019-04-03 13:37:37,196 : INFO : worker thread finished; awaiting finish of 2 more threads\n",
            "2019-04-03 13:37:37,206 : INFO : worker thread finished; awaiting finish of 1 more threads\n",
            "2019-04-03 13:37:37,211 : INFO : worker thread finished; awaiting finish of 0 more threads\n",
            "2019-04-03 13:37:37,213 : INFO : EPOCH - 10 : training on 889059 raw words (664157 effective words) took 1.7s, 381014 effective words/s\n",
            "2019-04-03 13:37:37,214 : INFO : training on a 8890590 raw words (6641140 effective words) took 17.6s, 377023 effective words/s\n"
          ],
          "name": "stderr"
        },
        {
          "output_type": "execute_result",
          "data": {
            "text/plain": [
              "(6641140, 8890590)"
            ]
          },
          "metadata": {
            "tags": []
          },
          "execution_count": 34
        }
      ]
    },
    {
      "metadata": {
        "scrolled": true,
        "id": "jA294b2hxOGq",
        "colab_type": "code",
        "outputId": "5fd651b4-5dc0-4c4a-f091-a51be3e0a99f",
        "colab": {
          "base_uri": "https://localhost:8080/",
          "height": 3404
        }
      },
      "cell_type": "code",
      "source": [
        "# Training the Word2Vec model for clothes reviews\n",
        "model_clothes = gensim.models.Word2Vec(\n",
        "    reviews_clothes_processed,\n",
        "    size=150,\n",
        "    window=10,\n",
        "    min_count=2,\n",
        "    workers=10\n",
        ")\n",
        "model_clothes.train(reviews_clothes_processed, total_examples=len(reviews_clothes_processed), epochs=10)"
      ],
      "execution_count": 35,
      "outputs": [
        {
          "output_type": "stream",
          "text": [
            "2019-04-03 13:37:45,650 : INFO : EPOCH 1 - PROGRESS: at 64.41% examples, 356514 words/s, in_qsize 19, out_qsize 0\n",
            "2019-04-03 13:37:46,035 : INFO : worker thread finished; awaiting finish of 9 more threads\n",
            "2019-04-03 13:37:46,050 : INFO : worker thread finished; awaiting finish of 8 more threads\n",
            "2019-04-03 13:37:46,061 : INFO : worker thread finished; awaiting finish of 7 more threads\n",
            "2019-04-03 13:37:46,086 : INFO : worker thread finished; awaiting finish of 6 more threads\n",
            "2019-04-03 13:37:46,093 : INFO : worker thread finished; awaiting finish of 5 more threads\n",
            "2019-04-03 13:37:46,104 : INFO : worker thread finished; awaiting finish of 4 more threads\n",
            "2019-04-03 13:37:46,112 : INFO : worker thread finished; awaiting finish of 3 more threads\n",
            "2019-04-03 13:37:46,114 : INFO : worker thread finished; awaiting finish of 2 more threads\n",
            "2019-04-03 13:37:46,119 : INFO : worker thread finished; awaiting finish of 1 more threads\n",
            "2019-04-03 13:37:46,122 : INFO : worker thread finished; awaiting finish of 0 more threads\n",
            "2019-04-03 13:37:46,124 : INFO : EPOCH - 1 : training on 826582 raw words (597476 effective words) took 1.5s, 386966 effective words/s\n",
            "2019-04-03 13:37:47,208 : INFO : EPOCH 2 - PROGRESS: at 64.56% examples, 356661 words/s, in_qsize 19, out_qsize 0\n",
            "2019-04-03 13:37:47,576 : INFO : worker thread finished; awaiting finish of 9 more threads\n",
            "2019-04-03 13:37:47,583 : INFO : worker thread finished; awaiting finish of 8 more threads\n",
            "2019-04-03 13:37:47,585 : INFO : worker thread finished; awaiting finish of 7 more threads\n",
            "2019-04-03 13:37:47,628 : INFO : worker thread finished; awaiting finish of 6 more threads\n",
            "2019-04-03 13:37:47,633 : INFO : worker thread finished; awaiting finish of 5 more threads\n",
            "2019-04-03 13:37:47,638 : INFO : worker thread finished; awaiting finish of 4 more threads\n",
            "2019-04-03 13:37:47,652 : INFO : worker thread finished; awaiting finish of 3 more threads\n",
            "2019-04-03 13:37:47,655 : INFO : worker thread finished; awaiting finish of 2 more threads\n",
            "2019-04-03 13:37:47,663 : INFO : worker thread finished; awaiting finish of 1 more threads\n",
            "2019-04-03 13:37:47,670 : INFO : worker thread finished; awaiting finish of 0 more threads\n",
            "2019-04-03 13:37:47,672 : INFO : EPOCH - 2 : training on 826582 raw words (597607 effective words) took 1.5s, 389522 effective words/s\n",
            "2019-04-03 13:37:48,692 : INFO : EPOCH 3 - PROGRESS: at 62.06% examples, 365995 words/s, in_qsize 19, out_qsize 0\n",
            "2019-04-03 13:37:49,148 : INFO : worker thread finished; awaiting finish of 9 more threads\n",
            "2019-04-03 13:37:49,158 : INFO : worker thread finished; awaiting finish of 8 more threads\n",
            "2019-04-03 13:37:49,172 : INFO : worker thread finished; awaiting finish of 7 more threads\n",
            "2019-04-03 13:37:49,197 : INFO : worker thread finished; awaiting finish of 6 more threads\n",
            "2019-04-03 13:37:49,207 : INFO : worker thread finished; awaiting finish of 5 more threads\n",
            "2019-04-03 13:37:49,214 : INFO : worker thread finished; awaiting finish of 4 more threads\n",
            "2019-04-03 13:37:49,216 : INFO : worker thread finished; awaiting finish of 3 more threads\n",
            "2019-04-03 13:37:49,225 : INFO : worker thread finished; awaiting finish of 2 more threads\n",
            "2019-04-03 13:37:49,228 : INFO : worker thread finished; awaiting finish of 1 more threads\n",
            "2019-04-03 13:37:49,229 : INFO : worker thread finished; awaiting finish of 0 more threads\n",
            "2019-04-03 13:37:49,236 : INFO : EPOCH - 3 : training on 826582 raw words (597914 effective words) took 1.5s, 386274 effective words/s\n",
            "2019-04-03 13:37:50,329 : INFO : EPOCH 4 - PROGRESS: at 63.28% examples, 347676 words/s, in_qsize 19, out_qsize 0\n",
            "2019-04-03 13:37:50,698 : INFO : worker thread finished; awaiting finish of 9 more threads\n",
            "2019-04-03 13:37:50,706 : INFO : worker thread finished; awaiting finish of 8 more threads\n",
            "2019-04-03 13:37:50,710 : INFO : worker thread finished; awaiting finish of 7 more threads\n",
            "2019-04-03 13:37:50,750 : INFO : worker thread finished; awaiting finish of 6 more threads\n",
            "2019-04-03 13:37:50,753 : INFO : worker thread finished; awaiting finish of 5 more threads\n",
            "2019-04-03 13:37:50,765 : INFO : worker thread finished; awaiting finish of 4 more threads\n",
            "2019-04-03 13:37:50,767 : INFO : worker thread finished; awaiting finish of 3 more threads\n",
            "2019-04-03 13:37:50,778 : INFO : worker thread finished; awaiting finish of 2 more threads\n",
            "2019-04-03 13:37:50,788 : INFO : worker thread finished; awaiting finish of 1 more threads\n",
            "2019-04-03 13:37:50,793 : INFO : worker thread finished; awaiting finish of 0 more threads\n",
            "2019-04-03 13:37:50,794 : INFO : EPOCH - 4 : training on 826582 raw words (597687 effective words) took 1.5s, 387480 effective words/s\n",
            "2019-04-03 13:37:51,876 : INFO : EPOCH 5 - PROGRESS: at 60.73% examples, 336220 words/s, in_qsize 12, out_qsize 7\n",
            "2019-04-03 13:37:52,256 : INFO : worker thread finished; awaiting finish of 9 more threads\n",
            "2019-04-03 13:37:52,271 : INFO : worker thread finished; awaiting finish of 8 more threads\n",
            "2019-04-03 13:37:52,281 : INFO : worker thread finished; awaiting finish of 7 more threads\n",
            "2019-04-03 13:37:52,291 : INFO : worker thread finished; awaiting finish of 6 more threads\n",
            "2019-04-03 13:37:52,294 : INFO : worker thread finished; awaiting finish of 5 more threads\n",
            "2019-04-03 13:37:52,300 : INFO : worker thread finished; awaiting finish of 4 more threads\n",
            "2019-04-03 13:37:52,302 : INFO : worker thread finished; awaiting finish of 3 more threads\n",
            "2019-04-03 13:37:52,339 : INFO : worker thread finished; awaiting finish of 2 more threads\n",
            "2019-04-03 13:37:52,348 : INFO : worker thread finished; awaiting finish of 1 more threads\n",
            "2019-04-03 13:37:52,354 : INFO : worker thread finished; awaiting finish of 0 more threads\n",
            "2019-04-03 13:37:52,355 : INFO : EPOCH - 5 : training on 826582 raw words (597653 effective words) took 1.6s, 385458 effective words/s\n",
            "2019-04-03 13:37:52,356 : INFO : training on a 4132910 raw words (2988337 effective words) took 7.8s, 383604 effective words/s\n",
            "2019-04-03 13:37:52,359 : WARNING : Effective 'alpha' higher than previous training cycles\n",
            "2019-04-03 13:37:52,360 : INFO : training model with 10 workers on 13355 vocabulary and 150 features, using sg=0 hs=0 sample=0.001 negative=5 window=10\n",
            "2019-04-03 13:37:53,396 : INFO : EPOCH 1 - PROGRESS: at 59.45% examples, 347124 words/s, in_qsize 19, out_qsize 1\n",
            "2019-04-03 13:37:53,819 : INFO : worker thread finished; awaiting finish of 9 more threads\n",
            "2019-04-03 13:37:53,845 : INFO : worker thread finished; awaiting finish of 8 more threads\n",
            "2019-04-03 13:37:53,846 : INFO : worker thread finished; awaiting finish of 7 more threads\n",
            "2019-04-03 13:37:53,873 : INFO : worker thread finished; awaiting finish of 6 more threads\n",
            "2019-04-03 13:37:53,877 : INFO : worker thread finished; awaiting finish of 5 more threads\n",
            "2019-04-03 13:37:53,915 : INFO : worker thread finished; awaiting finish of 4 more threads\n",
            "2019-04-03 13:37:53,920 : INFO : worker thread finished; awaiting finish of 3 more threads\n",
            "2019-04-03 13:37:53,924 : INFO : worker thread finished; awaiting finish of 2 more threads\n",
            "2019-04-03 13:37:53,930 : INFO : worker thread finished; awaiting finish of 1 more threads\n",
            "2019-04-03 13:37:53,938 : INFO : worker thread finished; awaiting finish of 0 more threads\n",
            "2019-04-03 13:37:53,939 : INFO : EPOCH - 1 : training on 826582 raw words (597705 effective words) took 1.6s, 383152 effective words/s\n",
            "2019-04-03 13:37:54,950 : INFO : EPOCH 2 - PROGRESS: at 63.08% examples, 374648 words/s, in_qsize 17, out_qsize 2\n",
            "2019-04-03 13:37:55,347 : INFO : worker thread finished; awaiting finish of 9 more threads\n",
            "2019-04-03 13:37:55,401 : INFO : worker thread finished; awaiting finish of 8 more threads\n",
            "2019-04-03 13:37:55,407 : INFO : worker thread finished; awaiting finish of 7 more threads\n",
            "2019-04-03 13:37:55,440 : INFO : worker thread finished; awaiting finish of 6 more threads\n",
            "2019-04-03 13:37:55,460 : INFO : worker thread finished; awaiting finish of 5 more threads\n",
            "2019-04-03 13:37:55,465 : INFO : worker thread finished; awaiting finish of 4 more threads\n",
            "2019-04-03 13:37:55,480 : INFO : worker thread finished; awaiting finish of 3 more threads\n",
            "2019-04-03 13:37:55,485 : INFO : worker thread finished; awaiting finish of 2 more threads\n",
            "2019-04-03 13:37:55,490 : INFO : worker thread finished; awaiting finish of 1 more threads\n",
            "2019-04-03 13:37:55,493 : INFO : worker thread finished; awaiting finish of 0 more threads\n",
            "2019-04-03 13:37:55,495 : INFO : EPOCH - 2 : training on 826582 raw words (597837 effective words) took 1.5s, 387018 effective words/s\n",
            "2019-04-03 13:37:56,590 : INFO : EPOCH 3 - PROGRESS: at 63.28% examples, 346065 words/s, in_qsize 19, out_qsize 0\n",
            "2019-04-03 13:37:56,982 : INFO : worker thread finished; awaiting finish of 9 more threads\n",
            "2019-04-03 13:37:57,025 : INFO : worker thread finished; awaiting finish of 8 more threads\n",
            "2019-04-03 13:37:57,035 : INFO : worker thread finished; awaiting finish of 7 more threads\n",
            "2019-04-03 13:37:57,037 : INFO : worker thread finished; awaiting finish of 6 more threads\n",
            "2019-04-03 13:37:57,040 : INFO : worker thread finished; awaiting finish of 5 more threads\n",
            "2019-04-03 13:37:57,045 : INFO : worker thread finished; awaiting finish of 4 more threads\n",
            "2019-04-03 13:37:57,051 : INFO : worker thread finished; awaiting finish of 3 more threads\n",
            "2019-04-03 13:37:57,056 : INFO : worker thread finished; awaiting finish of 2 more threads\n",
            "2019-04-03 13:37:57,072 : INFO : worker thread finished; awaiting finish of 1 more threads\n",
            "2019-04-03 13:37:57,082 : INFO : worker thread finished; awaiting finish of 0 more threads\n",
            "2019-04-03 13:37:57,083 : INFO : EPOCH - 3 : training on 826582 raw words (597804 effective words) took 1.6s, 379367 effective words/s\n",
            "2019-04-03 13:37:58,102 : INFO : EPOCH 4 - PROGRESS: at 58.23% examples, 343683 words/s, in_qsize 18, out_qsize 1\n",
            "2019-04-03 13:37:58,509 : INFO : worker thread finished; awaiting finish of 9 more threads\n",
            "2019-04-03 13:37:58,511 : INFO : worker thread finished; awaiting finish of 8 more threads\n",
            "2019-04-03 13:37:58,519 : INFO : worker thread finished; awaiting finish of 7 more threads\n",
            "2019-04-03 13:37:58,567 : INFO : worker thread finished; awaiting finish of 6 more threads\n",
            "2019-04-03 13:37:58,580 : INFO : worker thread finished; awaiting finish of 5 more threads\n",
            "2019-04-03 13:37:58,593 : INFO : worker thread finished; awaiting finish of 4 more threads\n",
            "2019-04-03 13:37:58,605 : INFO : worker thread finished; awaiting finish of 3 more threads\n",
            "2019-04-03 13:37:58,611 : INFO : worker thread finished; awaiting finish of 2 more threads\n",
            "2019-04-03 13:37:58,616 : INFO : worker thread finished; awaiting finish of 1 more threads\n",
            "2019-04-03 13:37:58,625 : INFO : worker thread finished; awaiting finish of 0 more threads\n",
            "2019-04-03 13:37:58,626 : INFO : EPOCH - 4 : training on 826582 raw words (597890 effective words) took 1.5s, 390655 effective words/s\n",
            "2019-04-03 13:37:59,670 : INFO : EPOCH 5 - PROGRESS: at 59.65% examples, 342406 words/s, in_qsize 19, out_qsize 1\n",
            "2019-04-03 13:38:00,070 : INFO : worker thread finished; awaiting finish of 9 more threads\n",
            "2019-04-03 13:38:00,074 : INFO : worker thread finished; awaiting finish of 8 more threads\n",
            "2019-04-03 13:38:00,076 : INFO : worker thread finished; awaiting finish of 7 more threads\n",
            "2019-04-03 13:38:00,097 : INFO : worker thread finished; awaiting finish of 6 more threads\n",
            "2019-04-03 13:38:00,098 : INFO : worker thread finished; awaiting finish of 5 more threads\n",
            "2019-04-03 13:38:00,128 : INFO : worker thread finished; awaiting finish of 4 more threads\n",
            "2019-04-03 13:38:00,130 : INFO : worker thread finished; awaiting finish of 3 more threads\n",
            "2019-04-03 13:38:00,147 : INFO : worker thread finished; awaiting finish of 2 more threads\n",
            "2019-04-03 13:38:00,161 : INFO : worker thread finished; awaiting finish of 1 more threads\n",
            "2019-04-03 13:38:00,167 : INFO : worker thread finished; awaiting finish of 0 more threads\n",
            "2019-04-03 13:38:00,168 : INFO : EPOCH - 5 : training on 826582 raw words (597858 effective words) took 1.5s, 390702 effective words/s\n",
            "2019-04-03 13:38:01,209 : INFO : EPOCH 6 - PROGRESS: at 60.77% examples, 350746 words/s, in_qsize 19, out_qsize 1\n",
            "2019-04-03 13:38:01,603 : INFO : worker thread finished; awaiting finish of 9 more threads\n",
            "2019-04-03 13:38:01,606 : INFO : worker thread finished; awaiting finish of 8 more threads\n",
            "2019-04-03 13:38:01,608 : INFO : worker thread finished; awaiting finish of 7 more threads\n",
            "2019-04-03 13:38:01,626 : INFO : worker thread finished; awaiting finish of 6 more threads\n",
            "2019-04-03 13:38:01,647 : INFO : worker thread finished; awaiting finish of 5 more threads\n",
            "2019-04-03 13:38:01,682 : INFO : worker thread finished; awaiting finish of 4 more threads\n",
            "2019-04-03 13:38:01,688 : INFO : worker thread finished; awaiting finish of 3 more threads\n",
            "2019-04-03 13:38:01,694 : INFO : worker thread finished; awaiting finish of 2 more threads\n",
            "2019-04-03 13:38:01,703 : INFO : worker thread finished; awaiting finish of 1 more threads\n",
            "2019-04-03 13:38:01,706 : INFO : worker thread finished; awaiting finish of 0 more threads\n",
            "2019-04-03 13:38:01,709 : INFO : EPOCH - 6 : training on 826582 raw words (597399 effective words) took 1.5s, 391217 effective words/s\n",
            "2019-04-03 13:38:02,729 : INFO : EPOCH 7 - PROGRESS: at 58.36% examples, 343204 words/s, in_qsize 19, out_qsize 0\n",
            "2019-04-03 13:38:03,146 : INFO : worker thread finished; awaiting finish of 9 more threads\n",
            "2019-04-03 13:38:03,148 : INFO : worker thread finished; awaiting finish of 8 more threads\n",
            "2019-04-03 13:38:03,167 : INFO : worker thread finished; awaiting finish of 7 more threads\n",
            "2019-04-03 13:38:03,187 : INFO : worker thread finished; awaiting finish of 6 more threads\n",
            "2019-04-03 13:38:03,200 : INFO : worker thread finished; awaiting finish of 5 more threads\n",
            "2019-04-03 13:38:03,228 : INFO : worker thread finished; awaiting finish of 4 more threads\n",
            "2019-04-03 13:38:03,239 : INFO : worker thread finished; awaiting finish of 3 more threads\n",
            "2019-04-03 13:38:03,249 : INFO : worker thread finished; awaiting finish of 2 more threads\n",
            "2019-04-03 13:38:03,255 : INFO : worker thread finished; awaiting finish of 1 more threads\n",
            "2019-04-03 13:38:03,256 : INFO : worker thread finished; awaiting finish of 0 more threads\n",
            "2019-04-03 13:38:03,258 : INFO : EPOCH - 7 : training on 826582 raw words (597809 effective words) took 1.5s, 389371 effective words/s\n",
            "2019-04-03 13:38:04,278 : INFO : EPOCH 8 - PROGRESS: at 63.08% examples, 373285 words/s, in_qsize 18, out_qsize 1\n",
            "2019-04-03 13:38:04,693 : INFO : worker thread finished; awaiting finish of 9 more threads\n",
            "2019-04-03 13:38:04,725 : INFO : worker thread finished; awaiting finish of 8 more threads\n",
            "2019-04-03 13:38:04,728 : INFO : worker thread finished; awaiting finish of 7 more threads\n",
            "2019-04-03 13:38:04,749 : INFO : worker thread finished; awaiting finish of 6 more threads\n",
            "2019-04-03 13:38:04,768 : INFO : worker thread finished; awaiting finish of 5 more threads\n",
            "2019-04-03 13:38:04,773 : INFO : worker thread finished; awaiting finish of 4 more threads\n",
            "2019-04-03 13:38:04,777 : INFO : worker thread finished; awaiting finish of 3 more threads\n",
            "2019-04-03 13:38:04,793 : INFO : worker thread finished; awaiting finish of 2 more threads\n",
            "2019-04-03 13:38:04,795 : INFO : worker thread finished; awaiting finish of 1 more threads\n",
            "2019-04-03 13:38:04,797 : INFO : worker thread finished; awaiting finish of 0 more threads\n",
            "2019-04-03 13:38:04,799 : INFO : EPOCH - 8 : training on 826582 raw words (598232 effective words) took 1.5s, 392051 effective words/s\n",
            "2019-04-03 13:38:05,871 : INFO : EPOCH 9 - PROGRESS: at 59.52% examples, 334430 words/s, in_qsize 19, out_qsize 0\n",
            "2019-04-03 13:38:06,277 : INFO : worker thread finished; awaiting finish of 9 more threads\n",
            "2019-04-03 13:38:06,284 : INFO : worker thread finished; awaiting finish of 8 more threads\n",
            "2019-04-03 13:38:06,293 : INFO : worker thread finished; awaiting finish of 7 more threads\n",
            "2019-04-03 13:38:06,294 : INFO : worker thread finished; awaiting finish of 6 more threads\n",
            "2019-04-03 13:38:06,309 : INFO : worker thread finished; awaiting finish of 5 more threads\n",
            "2019-04-03 13:38:06,318 : INFO : worker thread finished; awaiting finish of 4 more threads\n",
            "2019-04-03 13:38:06,332 : INFO : worker thread finished; awaiting finish of 3 more threads\n",
            "2019-04-03 13:38:06,359 : INFO : worker thread finished; awaiting finish of 2 more threads\n",
            "2019-04-03 13:38:06,373 : INFO : worker thread finished; awaiting finish of 1 more threads\n",
            "2019-04-03 13:38:06,375 : INFO : worker thread finished; awaiting finish of 0 more threads\n",
            "2019-04-03 13:38:06,376 : INFO : EPOCH - 9 : training on 826582 raw words (598024 effective words) took 1.6s, 383206 effective words/s\n",
            "2019-04-03 13:38:07,394 : INFO : EPOCH 10 - PROGRESS: at 62.06% examples, 367121 words/s, in_qsize 20, out_qsize 0\n",
            "2019-04-03 13:38:07,793 : INFO : worker thread finished; awaiting finish of 9 more threads\n",
            "2019-04-03 13:38:07,801 : INFO : worker thread finished; awaiting finish of 8 more threads\n",
            "2019-04-03 13:38:07,850 : INFO : worker thread finished; awaiting finish of 7 more threads\n",
            "2019-04-03 13:38:07,870 : INFO : worker thread finished; awaiting finish of 6 more threads\n",
            "2019-04-03 13:38:07,872 : INFO : worker thread finished; awaiting finish of 5 more threads\n",
            "2019-04-03 13:38:07,879 : INFO : worker thread finished; awaiting finish of 4 more threads\n",
            "2019-04-03 13:38:07,893 : INFO : worker thread finished; awaiting finish of 3 more threads\n",
            "2019-04-03 13:38:07,902 : INFO : worker thread finished; awaiting finish of 2 more threads\n",
            "2019-04-03 13:38:07,910 : INFO : worker thread finished; awaiting finish of 1 more threads\n",
            "2019-04-03 13:38:07,912 : INFO : worker thread finished; awaiting finish of 0 more threads\n",
            "2019-04-03 13:38:07,913 : INFO : EPOCH - 10 : training on 826582 raw words (597881 effective words) took 1.5s, 393258 effective words/s\n",
            "2019-04-03 13:38:07,915 : INFO : training on a 8265820 raw words (5978439 effective words) took 15.6s, 384410 effective words/s\n"
          ],
          "name": "stderr"
        },
        {
          "output_type": "execute_result",
          "data": {
            "text/plain": [
              "(5978439, 8265820)"
            ]
          },
          "metadata": {
            "tags": []
          },
          "execution_count": 35
        }
      ]
    },
    {
      "metadata": {
        "scrolled": true,
        "id": "zRwmbx8vxOG2",
        "colab_type": "code",
        "outputId": "aaab9deb-b4e6-4d0b-b76a-ecf6f0278a20",
        "colab": {
          "base_uri": "https://localhost:8080/",
          "height": 3677
        }
      },
      "cell_type": "code",
      "source": [
        "# Training the Word2Vec model for sports reviews\n",
        "model_sports = gensim.models.Word2Vec(\n",
        "    reviews_sports_processed,\n",
        "    size=150,\n",
        "    window=10,\n",
        "    min_count=2,\n",
        "    workers=10\n",
        ")\n",
        "model_sports.train(reviews_sports_processed, total_examples=len(reviews_sports_processed), epochs=10)"
      ],
      "execution_count": 36,
      "outputs": [
        {
          "output_type": "stream",
          "text": [
            "2019-04-03 13:38:07,933 : WARNING : consider setting layer size to a multiple of 4 for greater performance\n",
            "2019-04-03 13:38:07,936 : INFO : collecting all words and their counts\n",
            "2019-04-03 13:38:07,940 : INFO : PROGRESS: at sentence #0, processed 0 words, keeping 0 word types\n",
            "2019-04-03 13:38:08,080 : INFO : PROGRESS: at sentence #10000, processed 523053 words, keeping 26776 word types\n",
            "2019-04-03 13:38:08,219 : INFO : collected 40256 word types from a corpus of 1039523 raw words and 20000 sentences\n",
            "2019-04-03 13:38:08,221 : INFO : Loading a fresh vocabulary\n",
            "2019-04-03 13:38:08,272 : INFO : effective_min_count=2 retains 17158 unique words (42% of original 40256, drops 23098)\n",
            "2019-04-03 13:38:08,274 : INFO : effective_min_count=2 leaves 1016425 word corpus (97% of original 1039523, drops 23098)\n",
            "2019-04-03 13:38:08,329 : INFO : deleting the raw counts dictionary of 40256 items\n",
            "2019-04-03 13:38:08,332 : INFO : sample=0.001 downsamples 29 most-common words\n",
            "2019-04-03 13:38:08,333 : INFO : downsampling leaves estimated 770070 word corpus (75.8% of prior 1016425)\n",
            "2019-04-03 13:38:08,379 : INFO : estimated required memory for 17158 words and 150 dimensions: 29168600 bytes\n",
            "2019-04-03 13:38:08,380 : INFO : resetting layer weights\n",
            "2019-04-03 13:38:08,599 : INFO : training model with 10 workers on 17158 vocabulary and 150 features, using sg=0 hs=0 sample=0.001 negative=5 window=10\n",
            "2019-04-03 13:38:09,626 : INFO : EPOCH 1 - PROGRESS: at 46.66% examples, 355128 words/s, in_qsize 19, out_qsize 0\n",
            "2019-04-03 13:38:10,541 : INFO : worker thread finished; awaiting finish of 9 more threads\n",
            "2019-04-03 13:38:10,544 : INFO : worker thread finished; awaiting finish of 8 more threads\n",
            "2019-04-03 13:38:10,562 : INFO : worker thread finished; awaiting finish of 7 more threads\n",
            "2019-04-03 13:38:10,571 : INFO : worker thread finished; awaiting finish of 6 more threads\n",
            "2019-04-03 13:38:10,592 : INFO : worker thread finished; awaiting finish of 5 more threads\n",
            "2019-04-03 13:38:10,600 : INFO : worker thread finished; awaiting finish of 4 more threads\n",
            "2019-04-03 13:38:10,608 : INFO : worker thread finished; awaiting finish of 3 more threads\n",
            "2019-04-03 13:38:10,610 : INFO : worker thread finished; awaiting finish of 2 more threads\n",
            "2019-04-03 13:38:10,617 : INFO : worker thread finished; awaiting finish of 1 more threads\n",
            "2019-04-03 13:38:10,625 : INFO : worker thread finished; awaiting finish of 0 more threads\n",
            "2019-04-03 13:38:10,626 : INFO : EPOCH - 1 : training on 1039523 raw words (769996 effective words) took 2.0s, 382572 effective words/s\n",
            "2019-04-03 13:38:11,682 : INFO : EPOCH 2 - PROGRESS: at 46.66% examples, 344219 words/s, in_qsize 19, out_qsize 0\n",
            "2019-04-03 13:38:12,554 : INFO : worker thread finished; awaiting finish of 9 more threads\n",
            "2019-04-03 13:38:12,558 : INFO : worker thread finished; awaiting finish of 8 more threads\n",
            "2019-04-03 13:38:12,571 : INFO : worker thread finished; awaiting finish of 7 more threads\n",
            "2019-04-03 13:38:12,576 : INFO : worker thread finished; awaiting finish of 6 more threads\n",
            "2019-04-03 13:38:12,603 : INFO : worker thread finished; awaiting finish of 5 more threads\n",
            "2019-04-03 13:38:12,625 : INFO : worker thread finished; awaiting finish of 4 more threads\n",
            "2019-04-03 13:38:12,629 : INFO : worker thread finished; awaiting finish of 3 more threads\n",
            "2019-04-03 13:38:12,635 : INFO : worker thread finished; awaiting finish of 2 more threads\n",
            "2019-04-03 13:38:12,638 : INFO : worker thread finished; awaiting finish of 1 more threads\n",
            "2019-04-03 13:38:12,642 : INFO : worker thread finished; awaiting finish of 0 more threads\n",
            "2019-04-03 13:38:12,644 : INFO : EPOCH - 2 : training on 1039523 raw words (769967 effective words) took 2.0s, 383678 effective words/s\n",
            "2019-04-03 13:38:13,685 : INFO : EPOCH 3 - PROGRESS: at 45.75% examples, 343819 words/s, in_qsize 20, out_qsize 2\n",
            "2019-04-03 13:38:14,581 : INFO : worker thread finished; awaiting finish of 9 more threads\n",
            "2019-04-03 13:38:14,587 : INFO : worker thread finished; awaiting finish of 8 more threads\n",
            "2019-04-03 13:38:14,598 : INFO : worker thread finished; awaiting finish of 7 more threads\n",
            "2019-04-03 13:38:14,608 : INFO : worker thread finished; awaiting finish of 6 more threads\n",
            "2019-04-03 13:38:14,621 : INFO : worker thread finished; awaiting finish of 5 more threads\n",
            "2019-04-03 13:38:14,638 : INFO : worker thread finished; awaiting finish of 4 more threads\n",
            "2019-04-03 13:38:14,649 : INFO : worker thread finished; awaiting finish of 3 more threads\n",
            "2019-04-03 13:38:14,652 : INFO : worker thread finished; awaiting finish of 2 more threads\n",
            "2019-04-03 13:38:14,660 : INFO : worker thread finished; awaiting finish of 1 more threads\n",
            "2019-04-03 13:38:14,662 : INFO : worker thread finished; awaiting finish of 0 more threads\n",
            "2019-04-03 13:38:14,664 : INFO : EPOCH - 3 : training on 1039523 raw words (770064 effective words) took 2.0s, 384267 effective words/s\n",
            "2019-04-03 13:38:15,690 : INFO : EPOCH 4 - PROGRESS: at 45.78% examples, 347723 words/s, in_qsize 20, out_qsize 1\n",
            "2019-04-03 13:38:16,562 : INFO : worker thread finished; awaiting finish of 9 more threads\n",
            "2019-04-03 13:38:16,615 : INFO : worker thread finished; awaiting finish of 8 more threads\n",
            "2019-04-03 13:38:16,628 : INFO : worker thread finished; awaiting finish of 7 more threads\n",
            "2019-04-03 13:38:16,646 : INFO : worker thread finished; awaiting finish of 6 more threads\n",
            "2019-04-03 13:38:16,647 : INFO : worker thread finished; awaiting finish of 5 more threads\n",
            "2019-04-03 13:38:16,652 : INFO : worker thread finished; awaiting finish of 4 more threads\n",
            "2019-04-03 13:38:16,654 : INFO : worker thread finished; awaiting finish of 3 more threads\n",
            "2019-04-03 13:38:16,665 : INFO : worker thread finished; awaiting finish of 2 more threads\n",
            "2019-04-03 13:38:16,675 : INFO : worker thread finished; awaiting finish of 1 more threads\n",
            "2019-04-03 13:38:16,677 : INFO : worker thread finished; awaiting finish of 0 more threads\n",
            "2019-04-03 13:38:16,678 : INFO : EPOCH - 4 : training on 1039523 raw words (770630 effective words) took 2.0s, 384805 effective words/s\n",
            "2019-04-03 13:38:17,705 : INFO : EPOCH 5 - PROGRESS: at 44.98% examples, 340984 words/s, in_qsize 18, out_qsize 1\n",
            "2019-04-03 13:38:18,626 : INFO : worker thread finished; awaiting finish of 9 more threads\n",
            "2019-04-03 13:38:18,629 : INFO : worker thread finished; awaiting finish of 8 more threads\n",
            "2019-04-03 13:38:18,639 : INFO : worker thread finished; awaiting finish of 7 more threads\n",
            "2019-04-03 13:38:18,640 : INFO : worker thread finished; awaiting finish of 6 more threads\n",
            "2019-04-03 13:38:18,660 : INFO : worker thread finished; awaiting finish of 5 more threads\n",
            "2019-04-03 13:38:18,665 : INFO : worker thread finished; awaiting finish of 4 more threads\n",
            "2019-04-03 13:38:18,666 : INFO : worker thread finished; awaiting finish of 3 more threads\n",
            "2019-04-03 13:38:18,680 : INFO : worker thread finished; awaiting finish of 2 more threads\n",
            "2019-04-03 13:38:18,698 : INFO : worker thread finished; awaiting finish of 1 more threads\n",
            "2019-04-03 13:38:18,700 : INFO : worker thread finished; awaiting finish of 0 more threads\n",
            "2019-04-03 13:38:18,702 : INFO : EPOCH - 5 : training on 1039523 raw words (770093 effective words) took 2.0s, 383317 effective words/s\n",
            "2019-04-03 13:38:18,703 : INFO : training on a 5197615 raw words (3850750 effective words) took 10.1s, 381141 effective words/s\n",
            "2019-04-03 13:38:18,705 : WARNING : Effective 'alpha' higher than previous training cycles\n",
            "2019-04-03 13:38:18,707 : INFO : training model with 10 workers on 17158 vocabulary and 150 features, using sg=0 hs=0 sample=0.001 negative=5 window=10\n",
            "2019-04-03 13:38:19,770 : INFO : EPOCH 1 - PROGRESS: at 46.66% examples, 343058 words/s, in_qsize 19, out_qsize 0\n",
            "2019-04-03 13:38:20,565 : INFO : worker thread finished; awaiting finish of 9 more threads\n",
            "2019-04-03 13:38:20,614 : INFO : worker thread finished; awaiting finish of 8 more threads\n",
            "2019-04-03 13:38:20,642 : INFO : worker thread finished; awaiting finish of 7 more threads\n",
            "2019-04-03 13:38:20,670 : INFO : worker thread finished; awaiting finish of 6 more threads\n",
            "2019-04-03 13:38:20,692 : INFO : worker thread finished; awaiting finish of 5 more threads\n",
            "2019-04-03 13:38:20,701 : INFO : worker thread finished; awaiting finish of 4 more threads\n",
            "2019-04-03 13:38:20,707 : INFO : worker thread finished; awaiting finish of 3 more threads\n",
            "2019-04-03 13:38:20,708 : INFO : worker thread finished; awaiting finish of 2 more threads\n",
            "2019-04-03 13:38:20,711 : INFO : worker thread finished; awaiting finish of 1 more threads\n",
            "2019-04-03 13:38:20,716 : INFO : worker thread finished; awaiting finish of 0 more threads\n",
            "2019-04-03 13:38:20,717 : INFO : EPOCH - 1 : training on 1039523 raw words (769976 effective words) took 2.0s, 385834 effective words/s\n",
            "2019-04-03 13:38:21,755 : INFO : EPOCH 2 - PROGRESS: at 44.98% examples, 336814 words/s, in_qsize 19, out_qsize 0\n",
            "2019-04-03 13:38:22,600 : INFO : worker thread finished; awaiting finish of 9 more threads\n",
            "2019-04-03 13:38:22,603 : INFO : worker thread finished; awaiting finish of 8 more threads\n",
            "2019-04-03 13:38:22,660 : INFO : worker thread finished; awaiting finish of 7 more threads\n",
            "2019-04-03 13:38:22,669 : INFO : worker thread finished; awaiting finish of 6 more threads\n",
            "2019-04-03 13:38:22,717 : INFO : worker thread finished; awaiting finish of 5 more threads\n",
            "2019-04-03 13:38:22,731 : INFO : worker thread finished; awaiting finish of 4 more threads\n",
            "2019-04-03 13:38:22,733 : INFO : worker thread finished; awaiting finish of 3 more threads\n",
            "2019-04-03 13:38:22,735 : INFO : worker thread finished; awaiting finish of 2 more threads\n",
            "2019-04-03 13:38:22,736 : INFO : worker thread finished; awaiting finish of 1 more threads\n",
            "2019-04-03 13:38:22,742 : INFO : worker thread finished; awaiting finish of 0 more threads\n",
            "2019-04-03 13:38:22,744 : INFO : EPOCH - 2 : training on 1039523 raw words (770167 effective words) took 2.0s, 382466 effective words/s\n",
            "2019-04-03 13:38:23,760 : INFO : EPOCH 3 - PROGRESS: at 48.37% examples, 373745 words/s, in_qsize 19, out_qsize 0\n",
            "2019-04-03 13:38:24,665 : INFO : worker thread finished; awaiting finish of 9 more threads\n",
            "2019-04-03 13:38:24,667 : INFO : worker thread finished; awaiting finish of 8 more threads\n",
            "2019-04-03 13:38:24,689 : INFO : worker thread finished; awaiting finish of 7 more threads\n",
            "2019-04-03 13:38:24,710 : INFO : worker thread finished; awaiting finish of 6 more threads\n",
            "2019-04-03 13:38:24,722 : INFO : worker thread finished; awaiting finish of 5 more threads\n",
            "2019-04-03 13:38:24,724 : INFO : worker thread finished; awaiting finish of 4 more threads\n",
            "2019-04-03 13:38:24,734 : INFO : worker thread finished; awaiting finish of 3 more threads\n",
            "2019-04-03 13:38:24,737 : INFO : worker thread finished; awaiting finish of 2 more threads\n",
            "2019-04-03 13:38:24,748 : INFO : worker thread finished; awaiting finish of 1 more threads\n",
            "2019-04-03 13:38:24,761 : INFO : EPOCH 3 - PROGRESS: at 100.00% examples, 384573 words/s, in_qsize 0, out_qsize 1\n",
            "2019-04-03 13:38:24,762 : INFO : worker thread finished; awaiting finish of 0 more threads\n",
            "2019-04-03 13:38:24,764 : INFO : EPOCH - 3 : training on 1039523 raw words (770051 effective words) took 2.0s, 384059 effective words/s\n",
            "2019-04-03 13:38:25,815 : INFO : EPOCH 4 - PROGRESS: at 46.55% examples, 346275 words/s, in_qsize 18, out_qsize 1\n",
            "2019-04-03 13:38:26,611 : INFO : worker thread finished; awaiting finish of 9 more threads\n",
            "2019-04-03 13:38:26,704 : INFO : worker thread finished; awaiting finish of 8 more threads\n",
            "2019-04-03 13:38:26,714 : INFO : worker thread finished; awaiting finish of 7 more threads\n",
            "2019-04-03 13:38:26,731 : INFO : worker thread finished; awaiting finish of 6 more threads\n",
            "2019-04-03 13:38:26,737 : INFO : worker thread finished; awaiting finish of 5 more threads\n",
            "2019-04-03 13:38:26,759 : INFO : worker thread finished; awaiting finish of 4 more threads\n",
            "2019-04-03 13:38:26,776 : INFO : worker thread finished; awaiting finish of 3 more threads\n",
            "2019-04-03 13:38:26,788 : INFO : worker thread finished; awaiting finish of 2 more threads\n",
            "2019-04-03 13:38:26,792 : INFO : worker thread finished; awaiting finish of 1 more threads\n",
            "2019-04-03 13:38:26,794 : INFO : worker thread finished; awaiting finish of 0 more threads\n",
            "2019-04-03 13:38:26,797 : INFO : EPOCH - 4 : training on 1039523 raw words (770331 effective words) took 2.0s, 381116 effective words/s\n",
            "2019-04-03 13:38:27,834 : INFO : EPOCH 5 - PROGRESS: at 44.98% examples, 336738 words/s, in_qsize 19, out_qsize 0\n",
            "2019-04-03 13:38:28,659 : INFO : worker thread finished; awaiting finish of 9 more threads\n",
            "2019-04-03 13:38:28,716 : INFO : worker thread finished; awaiting finish of 8 more threads\n",
            "2019-04-03 13:38:28,737 : INFO : worker thread finished; awaiting finish of 7 more threads\n",
            "2019-04-03 13:38:28,757 : INFO : worker thread finished; awaiting finish of 6 more threads\n",
            "2019-04-03 13:38:28,791 : INFO : worker thread finished; awaiting finish of 5 more threads\n",
            "2019-04-03 13:38:28,798 : INFO : worker thread finished; awaiting finish of 4 more threads\n",
            "2019-04-03 13:38:28,800 : INFO : worker thread finished; awaiting finish of 3 more threads\n",
            "2019-04-03 13:38:28,801 : INFO : worker thread finished; awaiting finish of 2 more threads\n",
            "2019-04-03 13:38:28,804 : INFO : worker thread finished; awaiting finish of 1 more threads\n",
            "2019-04-03 13:38:28,817 : INFO : worker thread finished; awaiting finish of 0 more threads\n",
            "2019-04-03 13:38:28,818 : INFO : EPOCH - 5 : training on 1039523 raw words (769892 effective words) took 2.0s, 383498 effective words/s\n",
            "2019-04-03 13:38:29,833 : INFO : EPOCH 6 - PROGRESS: at 42.96% examples, 328859 words/s, in_qsize 18, out_qsize 1\n",
            "2019-04-03 13:38:30,685 : INFO : worker thread finished; awaiting finish of 9 more threads\n",
            "2019-04-03 13:38:30,716 : INFO : worker thread finished; awaiting finish of 8 more threads\n",
            "2019-04-03 13:38:30,758 : INFO : worker thread finished; awaiting finish of 7 more threads\n",
            "2019-04-03 13:38:30,776 : INFO : worker thread finished; awaiting finish of 6 more threads\n",
            "2019-04-03 13:38:30,794 : INFO : worker thread finished; awaiting finish of 5 more threads\n",
            "2019-04-03 13:38:30,795 : INFO : worker thread finished; awaiting finish of 4 more threads\n",
            "2019-04-03 13:38:30,797 : INFO : worker thread finished; awaiting finish of 3 more threads\n",
            "2019-04-03 13:38:30,813 : INFO : worker thread finished; awaiting finish of 2 more threads\n",
            "2019-04-03 13:38:30,820 : INFO : worker thread finished; awaiting finish of 1 more threads\n",
            "2019-04-03 13:38:30,829 : INFO : worker thread finished; awaiting finish of 0 more threads\n",
            "2019-04-03 13:38:30,831 : INFO : EPOCH - 6 : training on 1039523 raw words (770029 effective words) took 2.0s, 384639 effective words/s\n",
            "2019-04-03 13:38:31,888 : INFO : EPOCH 7 - PROGRESS: at 46.66% examples, 343220 words/s, in_qsize 19, out_qsize 0\n",
            "2019-04-03 13:38:32,742 : INFO : worker thread finished; awaiting finish of 9 more threads\n",
            "2019-04-03 13:38:32,755 : INFO : worker thread finished; awaiting finish of 8 more threads\n",
            "2019-04-03 13:38:32,787 : INFO : worker thread finished; awaiting finish of 7 more threads\n",
            "2019-04-03 13:38:32,793 : INFO : worker thread finished; awaiting finish of 6 more threads\n",
            "2019-04-03 13:38:32,795 : INFO : worker thread finished; awaiting finish of 5 more threads\n",
            "2019-04-03 13:38:32,796 : INFO : worker thread finished; awaiting finish of 4 more threads\n",
            "2019-04-03 13:38:32,798 : INFO : worker thread finished; awaiting finish of 3 more threads\n",
            "2019-04-03 13:38:32,808 : INFO : worker thread finished; awaiting finish of 2 more threads\n",
            "2019-04-03 13:38:32,818 : INFO : worker thread finished; awaiting finish of 1 more threads\n",
            "2019-04-03 13:38:32,833 : INFO : worker thread finished; awaiting finish of 0 more threads\n",
            "2019-04-03 13:38:32,834 : INFO : EPOCH - 7 : training on 1039523 raw words (769794 effective words) took 2.0s, 386234 effective words/s\n",
            "2019-04-03 13:38:33,878 : INFO : EPOCH 8 - PROGRESS: at 44.92% examples, 334162 words/s, in_qsize 19, out_qsize 0\n",
            "2019-04-03 13:38:34,711 : INFO : worker thread finished; awaiting finish of 9 more threads\n",
            "2019-04-03 13:38:34,757 : INFO : worker thread finished; awaiting finish of 8 more threads\n",
            "2019-04-03 13:38:34,768 : INFO : worker thread finished; awaiting finish of 7 more threads\n",
            "2019-04-03 13:38:34,771 : INFO : worker thread finished; awaiting finish of 6 more threads\n",
            "2019-04-03 13:38:34,798 : INFO : worker thread finished; awaiting finish of 5 more threads\n",
            "2019-04-03 13:38:34,804 : INFO : worker thread finished; awaiting finish of 4 more threads\n",
            "2019-04-03 13:38:34,820 : INFO : worker thread finished; awaiting finish of 3 more threads\n",
            "2019-04-03 13:38:34,839 : INFO : worker thread finished; awaiting finish of 2 more threads\n",
            "2019-04-03 13:38:34,847 : INFO : worker thread finished; awaiting finish of 1 more threads\n",
            "2019-04-03 13:38:34,851 : INFO : worker thread finished; awaiting finish of 0 more threads\n",
            "2019-04-03 13:38:34,853 : INFO : EPOCH - 8 : training on 1039523 raw words (769912 effective words) took 2.0s, 383582 effective words/s\n",
            "2019-04-03 13:38:35,871 : INFO : EPOCH 9 - PROGRESS: at 46.66% examples, 358190 words/s, in_qsize 18, out_qsize 1\n",
            "2019-04-03 13:38:36,752 : INFO : worker thread finished; awaiting finish of 9 more threads\n",
            "2019-04-03 13:38:36,780 : INFO : worker thread finished; awaiting finish of 8 more threads\n",
            "2019-04-03 13:38:36,796 : INFO : worker thread finished; awaiting finish of 7 more threads\n",
            "2019-04-03 13:38:36,803 : INFO : worker thread finished; awaiting finish of 6 more threads\n",
            "2019-04-03 13:38:36,808 : INFO : worker thread finished; awaiting finish of 5 more threads\n",
            "2019-04-03 13:38:36,841 : INFO : worker thread finished; awaiting finish of 4 more threads\n",
            "2019-04-03 13:38:36,845 : INFO : worker thread finished; awaiting finish of 3 more threads\n",
            "2019-04-03 13:38:36,857 : INFO : worker thread finished; awaiting finish of 2 more threads\n",
            "2019-04-03 13:38:36,860 : INFO : worker thread finished; awaiting finish of 1 more threads\n",
            "2019-04-03 13:38:36,863 : INFO : worker thread finished; awaiting finish of 0 more threads\n",
            "2019-04-03 13:38:36,865 : INFO : EPOCH - 9 : training on 1039523 raw words (770346 effective words) took 2.0s, 385606 effective words/s\n",
            "2019-04-03 13:38:37,938 : INFO : EPOCH 10 - PROGRESS: at 47.56% examples, 346055 words/s, in_qsize 19, out_qsize 0\n",
            "2019-04-03 13:38:38,816 : INFO : worker thread finished; awaiting finish of 9 more threads\n",
            "2019-04-03 13:38:38,820 : INFO : worker thread finished; awaiting finish of 8 more threads\n",
            "2019-04-03 13:38:38,825 : INFO : worker thread finished; awaiting finish of 7 more threads\n",
            "2019-04-03 13:38:38,828 : INFO : worker thread finished; awaiting finish of 6 more threads\n",
            "2019-04-03 13:38:38,861 : INFO : worker thread finished; awaiting finish of 5 more threads\n",
            "2019-04-03 13:38:38,873 : INFO : worker thread finished; awaiting finish of 4 more threads\n",
            "2019-04-03 13:38:38,889 : INFO : worker thread finished; awaiting finish of 3 more threads\n",
            "2019-04-03 13:38:38,892 : INFO : worker thread finished; awaiting finish of 2 more threads\n",
            "2019-04-03 13:38:38,894 : INFO : worker thread finished; awaiting finish of 1 more threads\n",
            "2019-04-03 13:38:38,897 : INFO : worker thread finished; awaiting finish of 0 more threads\n",
            "2019-04-03 13:38:38,899 : INFO : EPOCH - 10 : training on 1039523 raw words (770049 effective words) took 2.0s, 380842 effective words/s\n",
            "2019-04-03 13:38:38,902 : INFO : training on a 10395230 raw words (7700547 effective words) took 20.2s, 381345 effective words/s\n"
          ],
          "name": "stderr"
        },
        {
          "output_type": "execute_result",
          "data": {
            "text/plain": [
              "(7700547, 10395230)"
            ]
          },
          "metadata": {
            "tags": []
          },
          "execution_count": 36
        }
      ]
    },
    {
      "metadata": {
        "id": "_UlSpMgmxOHD",
        "colab_type": "code",
        "outputId": "bb49838c-46ff-422b-9b22-0efe8f765924",
        "colab": {
          "base_uri": "https://localhost:8080/",
          "height": 237
        }
      },
      "cell_type": "code",
      "source": [
        "print(model_automotive.wv.most_similar('car'), '\\n')\n",
        "print(model_clothes.wv.most_similar('car'), '\\n')\n",
        "print(model_sports.wv.most_similar('car'), '\\n')"
      ],
      "execution_count": 37,
      "outputs": [
        {
          "output_type": "stream",
          "text": [
            "2019-04-03 13:38:38,919 : INFO : precomputing L2-norms of word weight vectors\n",
            "/usr/local/lib/python3.6/dist-packages/gensim/matutils.py:737: FutureWarning: Conversion of the second argument of issubdtype from `int` to `np.signedinteger` is deprecated. In future, it will be treated as `np.int64 == np.dtype(int).type`.\n",
            "  if np.issubdtype(vec.dtype, np.int):\n",
            "2019-04-03 13:38:38,963 : INFO : precomputing L2-norms of word weight vectors\n",
            "2019-04-03 13:38:38,979 : INFO : precomputing L2-norms of word weight vectors\n"
          ],
          "name": "stderr"
        },
        {
          "output_type": "stream",
          "text": [
            "[('cars', 0.6289374828338623), ('vehicle', 0.5626370906829834), ('dusty', 0.4808405935764313), ('dust', 0.47062864899635315), ('neighborhood', 0.420526921749115), ('instantly', 0.4056239426136017), ('machine', 0.4051835834980011), ('dog', 0.4001147747039795), ('strangers', 0.39813005924224854), ('grungy', 0.3963448703289032)] \n",
            "\n",
            "[('plane', 0.816946268081665), ('lunch', 0.7877591848373413), ('frequently', 0.7809706330299377), ('adapter', 0.7783881425857544), ('airplane', 0.7625749111175537), ('library', 0.749118983745575), ('bathroom', 0.7258495092391968), ('food', 0.7247896790504456), ('flights', 0.723381519317627), ('paris', 0.7203710675239563)] \n",
            "\n",
            "[('truck', 0.6641783118247986), ('trunk', 0.6419307589530945), ('highway', 0.6341135501861572), ('trailer', 0.6207854747772217), ('trips', 0.6159077882766724), ('dashboard', 0.6042050719261169), ('tractor', 0.6021844744682312), ('vehicle', 0.6013000011444092), ('towing', 0.6009895205497742), ('vault', 0.5995098352432251)] \n",
            "\n"
          ],
          "name": "stdout"
        }
      ]
    },
    {
      "metadata": {
        "id": "A3P-4175xOHL",
        "colab_type": "code",
        "outputId": "e9c91ca4-5223-493b-a5b7-89bc5a50952f",
        "colab": {
          "base_uri": "https://localhost:8080/",
          "height": 183
        }
      },
      "cell_type": "code",
      "source": [
        "print(model_automotive.wv.most_similar('jeans'), '\\n')\n",
        "print(model_clothes.wv.most_similar('jeans'), '\\n')\n",
        "print(model_sports.wv.most_similar('jeans'), '\\n')"
      ],
      "execution_count": 38,
      "outputs": [
        {
          "output_type": "stream",
          "text": [
            "/usr/local/lib/python3.6/dist-packages/gensim/matutils.py:737: FutureWarning: Conversion of the second argument of issubdtype from `int` to `np.signedinteger` is deprecated. In future, it will be treated as `np.int64 == np.dtype(int).type`.\n",
            "  if np.issubdtype(vec.dtype, np.int):\n"
          ],
          "name": "stderr"
        },
        {
          "output_type": "stream",
          "text": [
            "[('tm', 0.6659151911735535), ('fireplace', 0.6628460884094238), ('32 oz', 0.6361522674560547), ('goo', 0.631987452507019), ('chaise', 0.6316652894020081), ('underseal', 0.6274003982543945), ('two stroke', 0.6229525208473206), ('oils', 0.616452693939209), ('pans', 0.6140305995941162), ('shoes', 0.6132801175117493)] \n",
            "\n",
            "[('shorts', 0.8028438687324524), ('skirts', 0.756276547908783), ('khakis', 0.7327053546905518), ('slacks', 0.7176435589790344), ('pants', 0.7170313000679016), ('leggings', 0.6772972345352173), ('dresses', 0.6574757099151611), ('tights', 0.654819130897522), ('cooler', 0.6415229439735413), ('sneaker', 0.6202932596206665)] \n",
            "\n",
            "[('pants', 0.8043004870414734), ('dress', 0.7115991115570068), ('denim', 0.705281138420105), ('slacks', 0.7039953470230103), ('wallet', 0.7023236155509949), ('suit', 0.696587324142456), ('pocket', 0.6922184824943542), ('pockets', 0.6850077509880066), ('snag', 0.6667410135269165), ('trousers', 0.6622899174690247)] \n",
            "\n"
          ],
          "name": "stdout"
        }
      ]
    },
    {
      "metadata": {
        "id": "Sg8f6fjTxOHS",
        "colab_type": "code",
        "outputId": "171595ec-12dd-4a26-ffeb-079da7d2534a",
        "colab": {
          "base_uri": "https://localhost:8080/",
          "height": 183
        }
      },
      "cell_type": "code",
      "source": [
        "print(model_automotive.wv.most_similar('football'), '\\n')\n",
        "print(model_clothes.wv.most_similar('football'), '\\n')\n",
        "print(model_sports.wv.most_similar('football'), '\\n')"
      ],
      "execution_count": 39,
      "outputs": [
        {
          "output_type": "stream",
          "text": [
            "/usr/local/lib/python3.6/dist-packages/gensim/matutils.py:737: FutureWarning: Conversion of the second argument of issubdtype from `int` to `np.signedinteger` is deprecated. In future, it will be treated as `np.int64 == np.dtype(int).type`.\n",
            "  if np.issubdtype(vec.dtype, np.int):\n"
          ],
          "name": "stderr"
        },
        {
          "output_type": "stream",
          "text": [
            "[('whisper', 0.6059507131576538), ('fleece', 0.602043867111206), ('raiders', 0.5814549326896667), ('nebulizer', 0.5775535702705383), ('14 95', 0.5759168267250061), ('cozy', 0.5729533433914185), ('bluetooth', 0.5634018778800964), ('boiling', 0.5630806684494019), ('5amps', 0.5606796741485596), ('recharges', 0.5589969754219055)] \n",
            "\n",
            "[('color style', 0.7043847441673279), ('bikes', 0.7007606029510498), ('reports', 0.7002520561218262), ('ji', 0.684445321559906), ('soccer', 0.6776039004325867), ('graduated', 0.676133930683136), ('train', 0.6735029816627502), ('derby', 0.6716619729995728), ('resident', 0.6712532639503479), ('game', 0.6644724607467651)] \n",
            "\n",
            "[('nfl', 0.7893703579902649), ('k2', 0.7434147596359253), ('arcade', 0.7330914735794067), ('jacks', 0.7262921929359436), ('baseball', 0.7249173521995544), ('sports', 0.715602457523346), ('raquet', 0.712012529373169), ('games', 0.7058862447738647), ('basketball', 0.7035390138626099), ('ssx', 0.7015592455863953)] \n",
            "\n"
          ],
          "name": "stdout"
        }
      ]
    },
    {
      "metadata": {
        "id": "BaSXT_zSxOHe",
        "colab_type": "code",
        "outputId": "085dd3b3-32fd-4271-b33a-6db79a4d676e",
        "colab": {
          "base_uri": "https://localhost:8080/",
          "height": 183
        }
      },
      "cell_type": "code",
      "source": [
        "print(model_automotive.wv.most_similar('good'), '\\n')\n",
        "print(model_clothes.wv.most_similar('good'), '\\n')\n",
        "print(model_sports.wv.most_similar('good'), '\\n')"
      ],
      "execution_count": 40,
      "outputs": [
        {
          "output_type": "stream",
          "text": [
            "[('decent', 0.6863530278205872), ('great', 0.6221771836280823), ('excellent', 0.5138694047927856), ('nice', 0.5117403268814087), ('excelent', 0.49870559573173523), ('reasonable', 0.46696868538856506), ('bad', 0.46300527453422546), ('high', 0.4617868661880493), ('ok', 0.45898497104644775), ('deceiving', 0.4576387405395508)] \n",
            "\n",
            "[('great', 0.7863109707832336), ('decent', 0.6914107799530029), ('nice', 0.6364070177078247), ('awesome', 0.6062074303627014), ('excellent', 0.5760748386383057), ('fantastic', 0.5637286901473999), ('reasonable', 0.5154386758804321), ('bad', 0.48617973923683167), ('fabulous', 0.48260268568992615), ('horrible', 0.47307443618774414)] \n",
            "\n",
            "[('great', 0.6662828326225281), ('decent', 0.6627741456031799), ('excellent', 0.5855639576911926), ('awesome', 0.5160797834396362), ('high', 0.48699069023132324), ('nice', 0.4829607903957367), ('amazing', 0.4543469548225403), ('ok', 0.4439494013786316), ('bad', 0.44225576519966125), ('build', 0.4368962049484253)] \n",
            "\n"
          ],
          "name": "stdout"
        },
        {
          "output_type": "stream",
          "text": [
            "/usr/local/lib/python3.6/dist-packages/gensim/matutils.py:737: FutureWarning: Conversion of the second argument of issubdtype from `int` to `np.signedinteger` is deprecated. In future, it will be treated as `np.int64 == np.dtype(int).type`.\n",
            "  if np.issubdtype(vec.dtype, np.int):\n"
          ],
          "name": "stderr"
        }
      ]
    },
    {
      "metadata": {
        "id": "WmMPBdBpxOHp",
        "colab_type": "code",
        "outputId": "085c10cc-a77f-4fe7-ce3c-e7bb6c11c0d5",
        "colab": {
          "base_uri": "https://localhost:8080/",
          "height": 183
        }
      },
      "cell_type": "code",
      "source": [
        "print(model_automotive.wv.most_similar('bad'), '\\n')\n",
        "print(model_clothes.wv.most_similar('bad'), '\\n')\n",
        "print(model_sports.wv.most_similar('bad'), '\\n')"
      ],
      "execution_count": 41,
      "outputs": [
        {
          "output_type": "stream",
          "text": [
            "/usr/local/lib/python3.6/dist-packages/gensim/matutils.py:737: FutureWarning: Conversion of the second argument of issubdtype from `int` to `np.signedinteger` is deprecated. In future, it will be treated as `np.int64 == np.dtype(int).type`.\n",
            "  if np.issubdtype(vec.dtype, np.int):\n"
          ],
          "name": "stderr"
        },
        {
          "output_type": "stream",
          "text": [
            "[('sad', 0.5209692120552063), ('fault', 0.5084018111228943), ('actually', 0.49642816185951233), ('horrible', 0.4728238582611084), ('frustrating', 0.47270357608795166), ('negative', 0.4668005406856537), ('terrible', 0.4657922387123108), ('good', 0.46300527453422546), ('disappointment', 0.4596026837825775), ('stupid', 0.45496106147766113)] \n",
            "\n",
            "[('worse', 0.5706638693809509), ('terrible', 0.5337061882019043), ('poor', 0.5248352289199829), ('disappointing', 0.5234676599502563), ('horrible', 0.5226626992225647), ('either', 0.5125814080238342), ('paying', 0.5077340602874756), ('ok', 0.49512961506843567), ('ridiculous', 0.48865190148353577), ('good', 0.48617973923683167)] \n",
            "\n",
            "[('complain', 0.5151728391647339), ('horrible', 0.5146952271461487), ('negative', 0.5112239122390747), ('funny', 0.501392662525177), ('ok', 0.48466771841049194), ('did', 0.46923211216926575), ('okay', 0.4650771915912628), ('weird', 0.46401461958885193), ('cheap', 0.4537960886955261), ('guess', 0.4470709264278412)] \n",
            "\n"
          ],
          "name": "stdout"
        }
      ]
    },
    {
      "metadata": {
        "id": "NntjzWorxOH0",
        "colab_type": "code",
        "colab": {}
      },
      "cell_type": "code",
      "source": [
        ""
      ],
      "execution_count": 0,
      "outputs": []
    },
    {
      "metadata": {
        "id": "BDiBqcVPxOH6",
        "colab_type": "code",
        "colab": {}
      },
      "cell_type": "code",
      "source": [
        ""
      ],
      "execution_count": 0,
      "outputs": []
    },
    {
      "metadata": {
        "id": "kzSB0cEkxOH8",
        "colab_type": "code",
        "colab": {}
      },
      "cell_type": "code",
      "source": [
        ""
      ],
      "execution_count": 0,
      "outputs": []
    },
    {
      "metadata": {
        "id": "3NTr9t8YxOIA",
        "colab_type": "code",
        "colab": {}
      },
      "cell_type": "code",
      "source": [
        ""
      ],
      "execution_count": 0,
      "outputs": []
    },
    {
      "metadata": {
        "id": "2NvndHeAxOIE",
        "colab_type": "code",
        "colab": {}
      },
      "cell_type": "code",
      "source": [
        ""
      ],
      "execution_count": 0,
      "outputs": []
    },
    {
      "metadata": {
        "id": "UNmDR_UwxOIG",
        "colab_type": "code",
        "colab": {}
      },
      "cell_type": "code",
      "source": [
        ""
      ],
      "execution_count": 0,
      "outputs": []
    },
    {
      "metadata": {
        "id": "maGuujSkxOIK",
        "colab_type": "code",
        "colab": {}
      },
      "cell_type": "code",
      "source": [
        ""
      ],
      "execution_count": 0,
      "outputs": []
    },
    {
      "metadata": {
        "id": "rRZ2PnQGxOIO",
        "colab_type": "code",
        "colab": {}
      },
      "cell_type": "code",
      "source": [
        ""
      ],
      "execution_count": 0,
      "outputs": []
    },
    {
      "metadata": {
        "id": "ELVJR6nsxOIQ",
        "colab_type": "code",
        "colab": {}
      },
      "cell_type": "code",
      "source": [
        ""
      ],
      "execution_count": 0,
      "outputs": []
    },
    {
      "metadata": {
        "id": "SNzlWlWjxOIV",
        "colab_type": "code",
        "colab": {}
      },
      "cell_type": "code",
      "source": [
        ""
      ],
      "execution_count": 0,
      "outputs": []
    },
    {
      "metadata": {
        "id": "nJMEMxd4xOIg",
        "colab_type": "code",
        "colab": {}
      },
      "cell_type": "code",
      "source": [
        ""
      ],
      "execution_count": 0,
      "outputs": []
    },
    {
      "metadata": {
        "id": "C4wUbE6cxOIi",
        "colab_type": "code",
        "colab": {}
      },
      "cell_type": "code",
      "source": [
        ""
      ],
      "execution_count": 0,
      "outputs": []
    },
    {
      "metadata": {
        "id": "oKRp3XQlxOIl",
        "colab_type": "code",
        "colab": {}
      },
      "cell_type": "code",
      "source": [
        ""
      ],
      "execution_count": 0,
      "outputs": []
    },
    {
      "metadata": {
        "id": "s-Iraug0xOIq",
        "colab_type": "code",
        "colab": {}
      },
      "cell_type": "code",
      "source": [
        ""
      ],
      "execution_count": 0,
      "outputs": []
    },
    {
      "metadata": {
        "id": "W0bhKLthxOIv",
        "colab_type": "code",
        "colab": {}
      },
      "cell_type": "code",
      "source": [
        ""
      ],
      "execution_count": 0,
      "outputs": []
    },
    {
      "metadata": {
        "id": "ENIaNj2xxOI0",
        "colab_type": "code",
        "colab": {}
      },
      "cell_type": "code",
      "source": [
        ""
      ],
      "execution_count": 0,
      "outputs": []
    },
    {
      "metadata": {
        "id": "U9FQXHgxxOI3",
        "colab_type": "code",
        "colab": {}
      },
      "cell_type": "code",
      "source": [
        ""
      ],
      "execution_count": 0,
      "outputs": []
    },
    {
      "metadata": {
        "id": "kXGQ4dqPxOI6",
        "colab_type": "code",
        "colab": {}
      },
      "cell_type": "code",
      "source": [
        ""
      ],
      "execution_count": 0,
      "outputs": []
    },
    {
      "metadata": {
        "id": "_pcGIcHXxOI8",
        "colab_type": "code",
        "colab": {}
      },
      "cell_type": "code",
      "source": [
        ""
      ],
      "execution_count": 0,
      "outputs": []
    },
    {
      "metadata": {
        "id": "78bk7xubxOJB",
        "colab_type": "code",
        "colab": {}
      },
      "cell_type": "code",
      "source": [
        ""
      ],
      "execution_count": 0,
      "outputs": []
    },
    {
      "metadata": {
        "id": "pPTklJP4xOJG",
        "colab_type": "code",
        "colab": {}
      },
      "cell_type": "code",
      "source": [
        ""
      ],
      "execution_count": 0,
      "outputs": []
    },
    {
      "metadata": {
        "id": "_3utZu9WxOJJ",
        "colab_type": "code",
        "colab": {}
      },
      "cell_type": "code",
      "source": [
        ""
      ],
      "execution_count": 0,
      "outputs": []
    },
    {
      "metadata": {
        "id": "j1H1dGRUxOJZ",
        "colab_type": "code",
        "colab": {}
      },
      "cell_type": "code",
      "source": [
        ""
      ],
      "execution_count": 0,
      "outputs": []
    },
    {
      "metadata": {
        "id": "AOagNrOoxOJe",
        "colab_type": "code",
        "colab": {}
      },
      "cell_type": "code",
      "source": [
        ""
      ],
      "execution_count": 0,
      "outputs": []
    },
    {
      "metadata": {
        "id": "Aq7WVks9xOJh",
        "colab_type": "code",
        "colab": {}
      },
      "cell_type": "code",
      "source": [
        ""
      ],
      "execution_count": 0,
      "outputs": []
    },
    {
      "metadata": {
        "id": "3r-mcsa5xOJk",
        "colab_type": "code",
        "colab": {}
      },
      "cell_type": "code",
      "source": [
        ""
      ],
      "execution_count": 0,
      "outputs": []
    }
  ]
}