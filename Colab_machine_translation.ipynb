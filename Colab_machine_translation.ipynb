{
  "nbformat": 4,
  "nbformat_minor": 0,
  "metadata": {
    "colab": {
      "name": "Colab_machine_translation.ipynb",
      "version": "0.3.2",
      "provenance": []
    },
    "kernelspec": {
      "name": "python3",
      "display_name": "Python 3"
    },
    "accelerator": "GPU"
  },
  "cells": [
    {
      "metadata": {
        "collapsed": true,
        "id": "-2csaN3vrlL6",
        "colab_type": "text"
      },
      "cell_type": "markdown",
      "source": [
        "## Machine Translation \n",
        "\n",
        "\n",
        "## Introduction\n",
        "In this notebook, you will build a deep neural network that functions as part of an end-to-end machine translation pipeline. Your completed pipeline will accept English text as input and return the French translation.\n",
        "\n",
        "- **Preprocess** - You'll convert text to sequence of integers.\n",
        "- **Models** Create models which accepts a sequence of integers as input and returns a probability distribution over possible translations. After learning about the basic types of neural networks that are often used for machine translation, you will engage in your own investigations, to design your own model!\n",
        "- **Prediction** Run the model on English text."
      ]
    },
    {
      "metadata": {
        "id": "IxY7VpHvrlMB",
        "colab_type": "code",
        "colab": {}
      },
      "cell_type": "code",
      "source": [
        "%load_ext autoreload\n",
        "%aimport helper, tests\n",
        "%autoreload 1"
      ],
      "execution_count": 0,
      "outputs": []
    },
    {
      "metadata": {
        "id": "06QCo45lsd2H",
        "colab_type": "code",
        "colab": {}
      },
      "cell_type": "code",
      "source": [
        "! wget https://raw.githubusercontent.com/susanli2016/NLP-with-Python/master/project_tests.py\n",
        "! wget https://raw.githubusercontent.com/susanli2016/NLP-with-Python/master/data/small_vocab_en\n",
        "! wget https://raw.githubusercontent.com/susanli2016/NLP-with-Python/master/data/small_vocab_fr\n"
      ],
      "execution_count": 0,
      "outputs": []
    },
    {
      "metadata": {
        "id": "P-96t64prlMM",
        "colab_type": "code",
        "colab": {}
      },
      "cell_type": "code",
      "source": [
        "import collections\n",
        "\n",
        "import numpy as np\n",
        "import project_tests as tests\n",
        "\n",
        "from keras.preprocessing.text import Tokenizer\n",
        "from keras.preprocessing.sequence import pad_sequences\n",
        "from keras.models import Model, Sequential\n",
        "from keras.layers import GRU, Input, Dense, TimeDistributed, Activation, RepeatVector, Bidirectional\n",
        "from keras.layers.embeddings import Embedding\n",
        "from keras.optimizers import Adam\n",
        "from keras.losses import sparse_categorical_crossentropy"
      ],
      "execution_count": 0,
      "outputs": []
    },
    {
      "metadata": {
        "id": "0cwkzjLXrlMY",
        "colab_type": "text"
      },
      "cell_type": "markdown",
      "source": [
        "## Dataset\n",
        "We begin by investigating the dataset that will be used to train and evaluate your pipeline.  The most common datasets used for machine translation are from [WMT](http://www.statmt.org/).  However, that will take a long time to train a neural network on.  We'll be using a dataset we created for this project that contains a small vocabulary.  You'll be able to train your model in a reasonable time with this dataset.\n",
        "### Load Data\n",
        "The data is located in `data/small_vocab_en` and `data/small_vocab_fr`. The `small_vocab_en` file contains English sentences with their French translations in the `small_vocab_fr` file. Load the English and French data from these files from running the cell below."
      ]
    },
    {
      "metadata": {
        "id": "rFIfPS2GrlMd",
        "colab_type": "code",
        "colab": {}
      },
      "cell_type": "code",
      "source": [
        "import os\n",
        "\n",
        "\n",
        "def load_data(path):\n",
        "    \"\"\"\n",
        "    Load dataset\n",
        "    \"\"\"\n",
        "    input_file = os.path.join(path)\n",
        "    with open(input_file, \"r\") as f:\n",
        "        data = f.read()\n",
        "\n",
        "    return data.split('\\n')\n",
        "\n",
        "# Load English data\n",
        "english_sentences = load_data('small_vocab_en')\n",
        "# Load French data\n",
        "french_sentences = load_data('small_vocab_fr')\n",
        "\n",
        "print('Dataset Loaded')"
      ],
      "execution_count": 0,
      "outputs": []
    },
    {
      "metadata": {
        "id": "5ckN72KyrlMn",
        "colab_type": "text"
      },
      "cell_type": "markdown",
      "source": [
        "### Files\n",
        "Each line in `small_vocab_en` contains an English sentence with the respective translation in each line of `small_vocab_fr`.  View the first two lines from each file."
      ]
    },
    {
      "metadata": {
        "id": "NtyxzJJTrlMq",
        "colab_type": "code",
        "colab": {}
      },
      "cell_type": "code",
      "source": [
        "for sample_i in range(2):\n",
        "    print('small_vocab_en Line {}:  {}'.format(sample_i + 1, english_sentences[sample_i]))\n",
        "    print('small_vocab_fr Line {}:  {}'.format(sample_i + 1, french_sentences[sample_i]))"
      ],
      "execution_count": 0,
      "outputs": []
    },
    {
      "metadata": {
        "id": "ciIIvsbgrlM0",
        "colab_type": "text"
      },
      "cell_type": "markdown",
      "source": [
        "From looking at the sentences, you can see they have been preprocessed already.  The puncuations have been delimited using spaces. All the text have been converted to lowercase.  This should save you some time, but the text requires more preprocessing.\n",
        "### Vocabulary\n",
        "The complexity of the problem is determined by the complexity of the vocabulary.  A more complex vocabulary is a more complex problem.  Let's look at the complexity of the dataset we'll be working with."
      ]
    },
    {
      "metadata": {
        "id": "OSNFKOJorlM5",
        "colab_type": "code",
        "colab": {}
      },
      "cell_type": "code",
      "source": [
        "english_words_counter = collections.Counter([word for sentence in english_sentences for word in sentence.split()])\n",
        "french_words_counter = collections.Counter([word for sentence in french_sentences for word in sentence.split()])\n",
        "\n",
        "print('{} English words.'.format(len([word for sentence in english_sentences for word in sentence.split()])))\n",
        "print('{} unique English words.'.format(len(english_words_counter)))\n",
        "print('10 Most common words in the English dataset:')\n",
        "print('\"' + '\" \"'.join(list(zip(*english_words_counter.most_common(10)))[0]) + '\"')\n",
        "print()\n",
        "print('{} French words.'.format(len([word for sentence in french_sentences for word in sentence.split()])))\n",
        "print('{} unique French words.'.format(len(french_words_counter)))\n",
        "print('10 Most common words in the French dataset:')\n",
        "print('\"' + '\" \"'.join(list(zip(*french_words_counter.most_common(10)))[0]) + '\"')"
      ],
      "execution_count": 0,
      "outputs": []
    },
    {
      "metadata": {
        "id": "RCsaw-FkrlNG",
        "colab_type": "text"
      },
      "cell_type": "markdown",
      "source": [
        "For comparison, _Alice's Adventures in Wonderland_ contains 2,766 unique words of a total of 15,500 words.\n",
        "## Preprocess\n",
        "For this project, you won't use text data as input to your model. Instead, you'll convert the text into sequences of integers using the following preprocess methods:\n",
        "1. Tokenize the words into ids\n",
        "2. Add padding to make all the sequences the same length.\n",
        "\n",
        "Time to start preprocessing the data...\n",
        "### Tokenize (IMPLEMENTATION)\n",
        "For a neural network to predict on text data, it first has to be turned into data it can understand. Text data like \"dog\" is a sequence of ASCII character encodings.  Since a neural network is a series of multiplication and addition operations, the input data needs to be number(s).\n",
        "\n",
        "We can turn each character into a number or each word into a number.  These are called character and word ids, respectively.  Character ids are used for character level models that generate text predictions for each character.  A word level model uses word ids that generate text predictions for each word.  Word level models tend to learn better, since they are lower in complexity, so we'll use those.\n",
        "\n",
        "Turn each sentence into a sequence of words ids using Keras's [`Tokenizer`](https://keras.io/preprocessing/text/#tokenizer) function. Use this function to tokenize `english_sentences` and `french_sentences` in the cell below.\n",
        "\n",
        "Running the cell will run `tokenize` on sample data and show output for debugging."
      ]
    },
    {
      "metadata": {
        "id": "1KOl8CbjrlNK",
        "colab_type": "code",
        "colab": {}
      },
      "cell_type": "code",
      "source": [
        "def tokenize(x):\n",
        "    \"\"\"\n",
        "    Tokenize x\n",
        "    :param x: List of sentences/strings to be tokenized\n",
        "    :return: Tuple of (tokenized x data, tokenizer used to tokenize x)\n",
        "    \"\"\"\n",
        "    # TODO: Implement\n",
        "    x_tk = Tokenizer(char_level=False)\n",
        "    x_tk.fit_on_texts(x)\n",
        "    \n",
        "    return x_tk.texts_to_sequences(x), x_tk\n",
        "tests.test_tokenize(tokenize)\n",
        "\n",
        "# Tokenize Example output\n",
        "text_sentences = [\n",
        "    'The quick brown fox jumps over the lazy dog .',\n",
        "    'By Jove , my quick study of lexicography won a prize .',\n",
        "    'This is a short sentence .']\n",
        "text_tokenized, text_tokenizer = tokenize(text_sentences)\n",
        "print(text_tokenizer.word_index)\n",
        "print()\n",
        "for sample_i, (sent, token_sent) in enumerate(zip(text_sentences, text_tokenized)):\n",
        "    print('Sequence {} in x'.format(sample_i + 1))\n",
        "    print('  Input:  {}'.format(sent))\n",
        "    print('  Output: {}'.format(token_sent))"
      ],
      "execution_count": 0,
      "outputs": []
    },
    {
      "metadata": {
        "id": "SiTBJj6FrlNe",
        "colab_type": "text"
      },
      "cell_type": "markdown",
      "source": [
        "### Padding (IMPLEMENTATION)\n",
        "When batching the sequence of word ids together, each sequence needs to be the same length.  Since sentences are dynamic in length, we can add padding to the end of the sequences to make them the same length.\n",
        "\n",
        "Make sure all the English sequences have the same length and all the French sequences have the same length by adding padding to the **end** of each sequence using Keras's [`pad_sequences`](https://keras.io/preprocessing/sequence/#pad_sequences) function."
      ]
    },
    {
      "metadata": {
        "id": "12Sm6G5wrlNg",
        "colab_type": "code",
        "colab": {}
      },
      "cell_type": "code",
      "source": [
        "def pad(x, length=None):\n",
        "    \"\"\"\n",
        "    Pad x\n",
        "    :param x: List of sequences.\n",
        "    :param length: Length to pad the sequence to.  If None, use length of longest sequence in x.\n",
        "    :return: Padded numpy array of sequences\n",
        "    \"\"\"\n",
        "    # TODO: Implement\n",
        "    if length is None:\n",
        "        length = max([len(sentence) for sentence in x])\n",
        "    \n",
        "    return pad_sequences(x, maxlen=length, padding='post')\n",
        "tests.test_pad(pad)\n",
        "\n",
        "# Pad Tokenized output\n",
        "test_pad = pad(text_tokenized)\n",
        "for sample_i, (token_sent, pad_sent) in enumerate(zip(text_tokenized, test_pad)):\n",
        "    print('Sequence {} in x'.format(sample_i + 1))\n",
        "    print('  Input:  {}'.format(np.array(token_sent)))\n",
        "    print('  Output: {}'.format(pad_sent))"
      ],
      "execution_count": 0,
      "outputs": []
    },
    {
      "metadata": {
        "id": "Bccr11XLrlNr",
        "colab_type": "text"
      },
      "cell_type": "markdown",
      "source": [
        "### Preprocess Pipeline\n",
        "Your focus for this project is to build neural network architecture, so we won't ask you to create a preprocess pipeline.  Instead, we've provided you with the implementation of the `preprocess` function."
      ]
    },
    {
      "metadata": {
        "id": "AvpdRuwTrlNs",
        "colab_type": "code",
        "colab": {
          "base_uri": "https://localhost:8080/",
          "height": 108
        },
        "outputId": "48d82f8a-68ee-4bb7-f4b3-337ea8a666e8"
      },
      "cell_type": "code",
      "source": [
        "def preprocess(x, y):\n",
        "    \"\"\"\n",
        "    Preprocess x and y\n",
        "    :param x: Feature List of sentences\n",
        "    :param y: Label List of sentences\n",
        "    :return: Tuple of (Preprocessed x, Preprocessed y, x tokenizer, y tokenizer)\n",
        "    \"\"\"\n",
        "    preprocess_x, x_tk = tokenize(x)\n",
        "    preprocess_y, y_tk = tokenize(y)\n",
        "\n",
        "    preprocess_x = pad(preprocess_x)\n",
        "    preprocess_y = pad(preprocess_y)\n",
        "\n",
        "    # Keras's sparse_categorical_crossentropy function requires the labels to be in 3 dimensions\n",
        "    preprocess_y = preprocess_y.reshape(*preprocess_y.shape, 1)\n",
        "\n",
        "    return preprocess_x, preprocess_y, x_tk, y_tk\n",
        "\n",
        "preproc_english_sentences, preproc_french_sentences, english_tokenizer, french_tokenizer =\\\n",
        "    preprocess(english_sentences, french_sentences)\n",
        "    \n",
        "max_english_sequence_length = preproc_english_sentences.shape[1]\n",
        "max_french_sequence_length = preproc_french_sentences.shape[1]\n",
        "english_vocab_size = len(english_tokenizer.word_index)\n",
        "french_vocab_size = len(french_tokenizer.word_index)\n",
        "\n",
        "print('Data Preprocessed')\n",
        "print(\"Max English sentence length:\", max_english_sequence_length)\n",
        "print(\"Max French sentence length:\", max_french_sequence_length)\n",
        "print(\"English vocabulary size:\", english_vocab_size)\n",
        "print(\"French vocabulary size:\", french_vocab_size)"
      ],
      "execution_count": 0,
      "outputs": [
        {
          "output_type": "stream",
          "text": [
            "Data Preprocessed\n",
            "Max English sentence length: 15\n",
            "Max French sentence length: 21\n",
            "English vocabulary size: 199\n",
            "French vocabulary size: 344\n"
          ],
          "name": "stdout"
        }
      ]
    },
    {
      "metadata": {
        "id": "vdFaETilrlNz",
        "colab_type": "text"
      },
      "cell_type": "markdown",
      "source": [
        "## Models\n",
        "In this section, you will experiment with various neural network architectures.\n",
        "You will begin by training four relatively simple architectures.\n",
        "- Model 1 is a simple RNN\n",
        "- Model 2 is a RNN with Embedding\n",
        "- Model 3 is a Bidirectional RNN\n",
        "- Model 4 is an optional Encoder-Decoder RNN\n",
        "\n",
        "After experimenting with the four simple architectures, you will construct a deeper architecture that is designed to outperform all four models.\n",
        "### Ids Back to Text\n",
        "The neural network will be translating the input to words ids, which isn't the final form we want.  We want the French translation.  The function `logits_to_text` will bridge the gab between the logits from the neural network to the French translation.  You'll be using this function to better understand the output of the neural network."
      ]
    },
    {
      "metadata": {
        "id": "q2wRB3eOrlN2",
        "colab_type": "code",
        "colab": {
          "base_uri": "https://localhost:8080/",
          "height": 35
        },
        "outputId": "13b23b5e-0e24-4f43-81a1-457264ecdd94"
      },
      "cell_type": "code",
      "source": [
        "def logits_to_text(logits, tokenizer):\n",
        "    \"\"\"\n",
        "    Turn logits from a neural network into text using the tokenizer\n",
        "    :param logits: Logits from a neural network\n",
        "    :param tokenizer: Keras Tokenizer fit on the labels\n",
        "    :return: String that represents the text of the logits\n",
        "    \"\"\"\n",
        "    index_to_words = {id: word for word, id in tokenizer.word_index.items()}\n",
        "    index_to_words[0] = '<PAD>'\n",
        "\n",
        "    return ' '.join([index_to_words[prediction] for prediction in np.argmax(logits, 1)])\n",
        "\n",
        "print('`logits_to_text` function loaded.')"
      ],
      "execution_count": 0,
      "outputs": [
        {
          "output_type": "stream",
          "text": [
            "`logits_to_text` function loaded.\n"
          ],
          "name": "stdout"
        }
      ]
    },
    {
      "metadata": {
        "id": "-X642rZYrlN_",
        "colab_type": "text"
      },
      "cell_type": "markdown",
      "source": [
        "### Model 1: RNN (IMPLEMENTATION)\n",
        "![RNN](images/rnn.png)\n",
        "A basic RNN model is a good baseline for sequence data.  In this model, you'll build a RNN that translates English to French."
      ]
    },
    {
      "metadata": {
        "scrolled": true,
        "id": "kjsUVD-hrlOB",
        "colab_type": "code",
        "colab": {
          "base_uri": "https://localhost:8080/",
          "height": 729
        },
        "outputId": "3b99630d-181e-4686-b1e9-c2010a884292"
      },
      "cell_type": "code",
      "source": [
        "def simple_model(input_shape, output_sequence_length, english_vocab_size, french_vocab_size):\n",
        "    \"\"\"\n",
        "    Build and train a basic RNN on x and y\n",
        "    :param input_shape: Tuple of input shape\n",
        "    :param output_sequence_length: Length of output sequence\n",
        "    :param english_vocab_size: Number of unique English words in the dataset\n",
        "    :param french_vocab_size: Number of unique French words in the dataset\n",
        "    :return: Keras model built, but not trained\n",
        "    \"\"\"\n",
        "    # TODO: Build the layers\n",
        "    learning_rate = 1e-3\n",
        "    input_seq = Input(input_shape[1:])\n",
        "    \n",
        "    rnn = GRU(256, return_sequences=True)(input_seq)\n",
        "    logits = TimeDistributed(Dense(french_vocab_size))(rnn)\n",
        "    \n",
        "    model = Model(input_seq, Activation('softmax')(logits))\n",
        "    model.compile(loss=sparse_categorical_crossentropy,\n",
        "                  optimizer=Adam(learning_rate),\n",
        "                  metrics=['sparse_categorical_crossentropy'])\n",
        "    return model\n",
        "tests.test_simple_model(simple_model)\n",
        "\n",
        "# Reshaping the input to work with a basic RNN\n",
        "tmp_x = pad(preproc_english_sentences, max_french_sequence_length)\n",
        "tmp_x = tmp_x.reshape((-1, preproc_french_sentences.shape[-2], 1))\n",
        "\n",
        "# Train the neural network\n",
        "simple_rnn_model = simple_model(\n",
        "    tmp_x.shape,\n",
        "    max_french_sequence_length,\n",
        "    english_vocab_size,\n",
        "    french_vocab_size+1)\n",
        "simple_rnn_model.fit(tmp_x, preproc_french_sentences, batch_size=1024, epochs=10, validation_split=0.2)\n",
        "\n",
        "# Print prediction(s)\n",
        "print(logits_to_text(simple_rnn_model.predict(tmp_x[:1])[0], french_tokenizer))\n",
        "print(simple_rnn_model.summary())"
      ],
      "execution_count": 19,
      "outputs": [
        {
          "output_type": "stream",
          "text": [
            "Train on 110288 samples, validate on 27573 samples\n",
            "Epoch 1/10\n",
            "110288/110288 [==============================] - 12s 109us/step - loss: 2.5672 - sparse_categorical_crossentropy: 2.5672 - val_loss: 1.8996 - val_sparse_categorical_crossentropy: 1.8996\n",
            "Epoch 2/10\n",
            "110288/110288 [==============================] - 11s 97us/step - loss: 1.6715 - sparse_categorical_crossentropy: 1.6715 - val_loss: 1.5278 - val_sparse_categorical_crossentropy: 1.5278\n",
            "Epoch 3/10\n",
            "110288/110288 [==============================] - 11s 96us/step - loss: 1.4485 - sparse_categorical_crossentropy: 1.4485 - val_loss: 1.3772 - val_sparse_categorical_crossentropy: 1.3772\n",
            "Epoch 4/10\n",
            "110288/110288 [==============================] - 11s 96us/step - loss: 1.3211 - sparse_categorical_crossentropy: 1.3211 - val_loss: 1.2687 - val_sparse_categorical_crossentropy: 1.2687\n",
            "Epoch 5/10\n",
            "110288/110288 [==============================] - 11s 96us/step - loss: 1.2264 - sparse_categorical_crossentropy: 1.2264 - val_loss: 1.1854 - val_sparse_categorical_crossentropy: 1.1854\n",
            "Epoch 6/10\n",
            "110288/110288 [==============================] - 11s 96us/step - loss: 1.1593 - sparse_categorical_crossentropy: 1.1593 - val_loss: 1.1295 - val_sparse_categorical_crossentropy: 1.1295\n",
            "Epoch 7/10\n",
            "110288/110288 [==============================] - 11s 96us/step - loss: 1.1078 - sparse_categorical_crossentropy: 1.1078 - val_loss: 1.0849 - val_sparse_categorical_crossentropy: 1.0849\n",
            "Epoch 8/10\n",
            "110288/110288 [==============================] - 11s 96us/step - loss: 1.0658 - sparse_categorical_crossentropy: 1.0658 - val_loss: 1.0460 - val_sparse_categorical_crossentropy: 1.0460\n",
            "Epoch 9/10\n",
            "110288/110288 [==============================] - 11s 97us/step - loss: 1.0299 - sparse_categorical_crossentropy: 1.0299 - val_loss: 1.0159 - val_sparse_categorical_crossentropy: 1.0159\n",
            "Epoch 10/10\n",
            "110288/110288 [==============================] - 11s 97us/step - loss: 0.9971 - sparse_categorical_crossentropy: 0.9971 - val_loss: 0.9812 - val_sparse_categorical_crossentropy: 0.9812\n",
            "new jersey est parfois calme en mois de il est est en en <PAD> <PAD> <PAD> <PAD> <PAD> <PAD> <PAD> <PAD>\n",
            "_________________________________________________________________\n",
            "Layer (type)                 Output Shape              Param #   \n",
            "=================================================================\n",
            "input_10 (InputLayer)        (None, 21, 1)             0         \n",
            "_________________________________________________________________\n",
            "gru_10 (GRU)                 (None, 21, 256)           198144    \n",
            "_________________________________________________________________\n",
            "time_distributed_10 (TimeDis (None, 21, 345)           88665     \n",
            "_________________________________________________________________\n",
            "activation_10 (Activation)   (None, 21, 345)           0         \n",
            "=================================================================\n",
            "Total params: 286,809\n",
            "Trainable params: 286,809\n",
            "Non-trainable params: 0\n",
            "_________________________________________________________________\n",
            "None\n"
          ],
          "name": "stdout"
        }
      ]
    },
    {
      "metadata": {
        "id": "qgNIW_5BrlOJ",
        "colab_type": "text"
      },
      "cell_type": "markdown",
      "source": [
        "### Model 2: Embedding (IMPLEMENTATION)\n",
        "![RNN](images/embedding.png)\n",
        "You've turned the words into ids, but there's a better representation of a word.  This is called word embeddings.  An embedding is a vector representation of the word that is close to similar words in n-dimensional space, where the n represents the size of the embedding vectors.\n",
        "\n",
        "In this model, you'll create a RNN model using embedding."
      ]
    },
    {
      "metadata": {
        "scrolled": true,
        "id": "ESBbzMXorlOO",
        "colab_type": "code",
        "colab": {
          "base_uri": "https://localhost:8080/",
          "height": 747
        },
        "outputId": "4b846768-52f8-4a1c-c87b-f34ffc1e64a9"
      },
      "cell_type": "code",
      "source": [
        "def embed_model(input_shape, output_sequence_length, english_vocab_size, french_vocab_size):\n",
        "    \"\"\"\n",
        "    Build and train a RNN model using word embedding on x and y\n",
        "    :param input_shape: Tuple of input shape\n",
        "    :param output_sequence_length: Length of output sequence\n",
        "    :param english_vocab_size: Number of unique English words in the dataset\n",
        "    :param french_vocab_size: Number of unique French words in the dataset\n",
        "    :return: Keras model built, but not trained\n",
        "    \"\"\"\n",
        "    learning_rate = 1e-3\n",
        "    input_seq = Input(input_shape[1:])\n",
        "    \n",
        "    embed_layer = Embedding(english_vocab_size, output_sequence_length, mask_zero=True)(input_seq)\n",
        "    rnn = GRU(256, return_sequences=True)(embed_layer)\n",
        "    logits = TimeDistributed(Dense(french_vocab_size))(rnn)\n",
        "    \n",
        "    model = Model(input_seq, Activation('softmax')(logits))\n",
        "    model.compile(loss=sparse_categorical_crossentropy,\n",
        "                  optimizer=Adam(learning_rate),\n",
        "                  metrics=['sparse_categorical_crossentropy'])\n",
        "    \n",
        "    return model\n",
        "tests.test_embed_model(embed_model)\n",
        "\n",
        "# TODO: Reshape the input\n",
        "tmp_x = pad(preproc_english_sentences, preproc_french_sentences.shape[1])\n",
        "tmp_x = tmp_x.reshape((-1, preproc_french_sentences.shape[-2]))\n",
        "\n",
        "# Train the neural network\n",
        "embed_rnn_model = embed_model(\n",
        "    tmp_x.shape,\n",
        "    preproc_french_sentences.shape[1],\n",
        "    len(english_tokenizer.word_index) + 1,\n",
        "    len(french_tokenizer.word_index) + 1)\n",
        "embed_rnn_model.summary()\n",
        "embed_rnn_model.fit(tmp_x, preproc_french_sentences, batch_size=1024, epochs=10, validation_split=0.2)\n",
        "\n",
        "# Print prediction(s)\n",
        "print(logits_to_text(embed_rnn_model.predict(tmp_x[:1])[0], french_tokenizer))"
      ],
      "execution_count": 20,
      "outputs": [
        {
          "output_type": "stream",
          "text": [
            "_________________________________________________________________\n",
            "Layer (type)                 Output Shape              Param #   \n",
            "=================================================================\n",
            "input_12 (InputLayer)        (None, 21)                0         \n",
            "_________________________________________________________________\n",
            "embedding_2 (Embedding)      (None, 21, 21)            4200      \n",
            "_________________________________________________________________\n",
            "gru_12 (GRU)                 (None, 21, 256)           213504    \n",
            "_________________________________________________________________\n",
            "time_distributed_12 (TimeDis (None, 21, 345)           88665     \n",
            "_________________________________________________________________\n",
            "activation_12 (Activation)   (None, 21, 345)           0         \n",
            "=================================================================\n",
            "Total params: 306,369\n",
            "Trainable params: 306,369\n",
            "Non-trainable params: 0\n",
            "_________________________________________________________________\n",
            "Train on 110288 samples, validate on 27573 samples\n",
            "Epoch 1/10\n",
            "110288/110288 [==============================] - 15s 132us/step - loss: 4.4700 - sparse_categorical_crossentropy: 4.4700 - val_loss: 3.6445 - val_sparse_categorical_crossentropy: 3.6445\n",
            "Epoch 2/10\n",
            "110288/110288 [==============================] - 13s 115us/step - loss: 2.8622 - sparse_categorical_crossentropy: 2.8622 - val_loss: 2.3599 - val_sparse_categorical_crossentropy: 2.3599\n",
            "Epoch 3/10\n",
            "110288/110288 [==============================] - 13s 116us/step - loss: 1.9902 - sparse_categorical_crossentropy: 1.9902 - val_loss: 1.6863 - val_sparse_categorical_crossentropy: 1.6863\n",
            "Epoch 4/10\n",
            "110288/110288 [==============================] - 13s 116us/step - loss: 1.4382 - sparse_categorical_crossentropy: 1.4382 - val_loss: 1.2117 - val_sparse_categorical_crossentropy: 1.2117\n",
            "Epoch 5/10\n",
            "110288/110288 [==============================] - 13s 116us/step - loss: 1.0517 - sparse_categorical_crossentropy: 1.0517 - val_loss: 0.9134 - val_sparse_categorical_crossentropy: 0.9134\n",
            "Epoch 6/10\n",
            "110288/110288 [==============================] - 13s 116us/step - loss: 0.8220 - sparse_categorical_crossentropy: 0.8220 - val_loss: 0.7520 - val_sparse_categorical_crossentropy: 0.7520\n",
            "Epoch 7/10\n",
            "110288/110288 [==============================] - 13s 116us/step - loss: 0.6895 - sparse_categorical_crossentropy: 0.6895 - val_loss: 0.6362 - val_sparse_categorical_crossentropy: 0.6362\n",
            "Epoch 8/10\n",
            "110288/110288 [==============================] - 13s 116us/step - loss: 0.6045 - sparse_categorical_crossentropy: 0.6045 - val_loss: 0.5756 - val_sparse_categorical_crossentropy: 0.5756\n",
            "Epoch 9/10\n",
            "110288/110288 [==============================] - 13s 116us/step - loss: 0.5472 - sparse_categorical_crossentropy: 0.5472 - val_loss: 0.5285 - val_sparse_categorical_crossentropy: 0.5285\n",
            "Epoch 10/10\n",
            "110288/110288 [==============================] - 13s 116us/step - loss: 0.5064 - sparse_categorical_crossentropy: 0.5064 - val_loss: 0.4949 - val_sparse_categorical_crossentropy: 0.4949\n",
            "new jersey est parfois calme en l' et il est et il est est est est est est est est est\n"
          ],
          "name": "stdout"
        }
      ]
    },
    {
      "metadata": {
        "id": "6f_v75wprlOU",
        "colab_type": "text"
      },
      "cell_type": "markdown",
      "source": [
        "### Model 3: Bidirectional RNNs (IMPLEMENTATION)\n",
        "![RNN](images/bidirectional.png)\n",
        "One restriction of a RNN is that it can't see the future input, only the past.  This is where bidirectional recurrent neural networks come in.  They are able to see the future data."
      ]
    },
    {
      "metadata": {
        "scrolled": true,
        "id": "MB3x7cCDrlOV",
        "colab_type": "code",
        "colab": {
          "base_uri": "https://localhost:8080/",
          "height": 729
        },
        "outputId": "e7581603-dfea-4602-a924-0b22208f1bda"
      },
      "cell_type": "code",
      "source": [
        "def bd_model(input_shape, output_sequence_length, english_vocab_size, french_vocab_size):\n",
        "    \"\"\"\n",
        "    Build and train a bidirectional RNN model on x and y\n",
        "    :param input_shape: Tuple of input shape\n",
        "    :param output_sequence_length: Length of output sequence\n",
        "    :param english_vocab_size: Number of unique English words in the dataset\n",
        "    :param french_vocab_size: Number of unique French words in the dataset\n",
        "    :return: Keras model built, but not trained\n",
        "    \"\"\"\n",
        "    # TODO: Implement\n",
        "    learning_rate = 1e-3\n",
        "    input_seq = Input(input_shape[1:])\n",
        "    \n",
        "    bd_layer = Bidirectional(GRU(256, return_sequences=True))(input_seq)\n",
        "    logits = TimeDistributed(Dense(french_vocab_size))(bd_layer)\n",
        "    \n",
        "    model = Model(input_seq, Activation('softmax')(logits))\n",
        "    model.compile(loss=sparse_categorical_crossentropy,\n",
        "                  optimizer=Adam(learning_rate),\n",
        "                  metrics=['sparse_categorical_crossentropy'])\n",
        "    \n",
        "    return model\n",
        "    \n",
        "tests.test_bd_model(bd_model)\n",
        "\n",
        "\n",
        "# TODO: Train and Print prediction(s)\n",
        "tmp_x = pad(preproc_english_sentences, max_french_sequence_length)\n",
        "tmp_x = tmp_x.reshape((-1, preproc_french_sentences.shape[-2], 1))\n",
        "\n",
        "bd_rnn_model = bd_model(\n",
        "    tmp_x.shape,\n",
        "    max_french_sequence_length,\n",
        "    english_vocab_size,\n",
        "    french_vocab_size+1)\n",
        "bd_rnn_model.fit(tmp_x, preproc_french_sentences, batch_size=1024, epochs=10, validation_split=0.2)\n",
        "\n",
        "print(logits_to_text(bd_rnn_model.predict(tmp_x[:1])[0], french_tokenizer))\n",
        "print(bd_rnn_model.summary())"
      ],
      "execution_count": 21,
      "outputs": [
        {
          "output_type": "stream",
          "text": [
            "Train on 110288 samples, validate on 27573 samples\n",
            "Epoch 1/10\n",
            "110288/110288 [==============================] - 21s 189us/step - loss: 2.1039 - sparse_categorical_crossentropy: 2.1039 - val_loss: 1.4904 - val_sparse_categorical_crossentropy: 1.4904\n",
            "Epoch 2/10\n",
            "110288/110288 [==============================] - 18s 167us/step - loss: 1.3730 - sparse_categorical_crossentropy: 1.3730 - val_loss: 1.2788 - val_sparse_categorical_crossentropy: 1.2788\n",
            "Epoch 3/10\n",
            "110288/110288 [==============================] - 18s 166us/step - loss: 1.2192 - sparse_categorical_crossentropy: 1.2192 - val_loss: 1.1662 - val_sparse_categorical_crossentropy: 1.1662\n",
            "Epoch 4/10\n",
            "110288/110288 [==============================] - 18s 165us/step - loss: 1.1278 - sparse_categorical_crossentropy: 1.1278 - val_loss: 1.0878 - val_sparse_categorical_crossentropy: 1.0878\n",
            "Epoch 5/10\n",
            "110288/110288 [==============================] - 18s 166us/step - loss: 1.0571 - sparse_categorical_crossentropy: 1.0571 - val_loss: 1.0259 - val_sparse_categorical_crossentropy: 1.0259\n",
            "Epoch 6/10\n",
            "110288/110288 [==============================] - 18s 165us/step - loss: 1.0009 - sparse_categorical_crossentropy: 1.0009 - val_loss: 0.9770 - val_sparse_categorical_crossentropy: 0.9770\n",
            "Epoch 7/10\n",
            "110288/110288 [==============================] - 18s 167us/step - loss: 0.9566 - sparse_categorical_crossentropy: 0.9566 - val_loss: 0.9353 - val_sparse_categorical_crossentropy: 0.9353\n",
            "Epoch 8/10\n",
            "110288/110288 [==============================] - 18s 167us/step - loss: 0.9189 - sparse_categorical_crossentropy: 0.9189 - val_loss: 0.9018 - val_sparse_categorical_crossentropy: 0.9018\n",
            "Epoch 9/10\n",
            "110288/110288 [==============================] - 18s 167us/step - loss: 0.8875 - sparse_categorical_crossentropy: 0.8875 - val_loss: 0.8753 - val_sparse_categorical_crossentropy: 0.8753\n",
            "Epoch 10/10\n",
            "110288/110288 [==============================] - 18s 167us/step - loss: 0.8573 - sparse_categorical_crossentropy: 0.8573 - val_loss: 0.8425 - val_sparse_categorical_crossentropy: 0.8425\n",
            "new jersey est parfois chaud en mois et il et il en en en <PAD> <PAD> <PAD> <PAD> <PAD> <PAD> <PAD>\n",
            "_________________________________________________________________\n",
            "Layer (type)                 Output Shape              Param #   \n",
            "=================================================================\n",
            "input_14 (InputLayer)        (None, 21, 1)             0         \n",
            "_________________________________________________________________\n",
            "bidirectional_2 (Bidirection (None, 21, 512)           396288    \n",
            "_________________________________________________________________\n",
            "time_distributed_14 (TimeDis (None, 21, 345)           176985    \n",
            "_________________________________________________________________\n",
            "activation_14 (Activation)   (None, 21, 345)           0         \n",
            "=================================================================\n",
            "Total params: 573,273\n",
            "Trainable params: 573,273\n",
            "Non-trainable params: 0\n",
            "_________________________________________________________________\n",
            "None\n"
          ],
          "name": "stdout"
        }
      ]
    },
    {
      "metadata": {
        "id": "vulCn66grlOu",
        "colab_type": "text"
      },
      "cell_type": "markdown",
      "source": [
        "### Model 4: Encoder-Decoder (OPTIONAL)\n",
        "Time to look at encoder-decoder models.  This model is made up of an encoder and decoder. The encoder creates a matrix representation of the sentence.  The decoder takes this matrix as input and predicts the translation as output.\n",
        "\n",
        "Create an encoder-decoder model in the cell below."
      ]
    },
    {
      "metadata": {
        "scrolled": true,
        "id": "4LXHMfNDrlOv",
        "colab_type": "code",
        "colab": {
          "base_uri": "https://localhost:8080/",
          "height": 729
        },
        "outputId": "939bdf79-57b2-4ab4-a9d2-4f8486b8b60f"
      },
      "cell_type": "code",
      "source": [
        "def encdec_model(input_shape, output_sequence_length, english_vocab_size, french_vocab_size):\n",
        "    \"\"\"\n",
        "    Build and train an encoder-decoder model on x and y\n",
        "    :param input_shape: Tuple of input shape\n",
        "    :param output_sequence_length: Length of output sequence\n",
        "    :param english_vocab_size: Number of unique English words in the dataset\n",
        "    :param french_vocab_size: Number of unique French words in the dataset\n",
        "    :return: Keras model built, but not trained\n",
        "    \"\"\"\n",
        "    learning_rate = 1e-3\n",
        "    input_seq = Input(input_shape[1:])\n",
        "    \n",
        "    bd_layer_enc = Bidirectional(GRU(256, return_sequences=False))(input_seq)\n",
        "    rep = RepeatVector(output_sequence_length)(bd_layer_enc)\n",
        "    bd_layer_dec = Bidirectional(GRU(256, return_sequences=True))(rep)       \n",
        "    logits = TimeDistributed(Dense(french_vocab_size))(bd_layer_dec)\n",
        "    \n",
        "    model = Model(input_seq, Activation('softmax')(logits))\n",
        "    model.compile(loss=sparse_categorical_crossentropy,\n",
        "                  optimizer=Adam(learning_rate),\n",
        "                  metrics=['sparse_categorical_crossentropy'])\n",
        "    \n",
        "    return model\n",
        "tests.test_encdec_model(encdec_model)\n",
        "\n",
        "\n",
        "# OPTIONAL: Train and Print prediction(s)\n",
        "tmp_x = pad(preproc_english_sentences, max_french_sequence_length)\n",
        "tmp_x = tmp_x.reshape((-1, preproc_french_sentences.shape[-2], 1))\n",
        "\n",
        "bd_rnn_model = bd_model(\n",
        "    tmp_x.shape,\n",
        "    max_french_sequence_length,\n",
        "    english_vocab_size,\n",
        "    french_vocab_size)\n",
        "bd_rnn_model.fit(tmp_x, preproc_french_sentences, batch_size=1024, epochs=10, validation_split=0.2)\n",
        "\n",
        "print(logits_to_text(bd_rnn_model.predict(tmp_x[:1])[0], french_tokenizer))\n",
        "print(bd_rnn_model.summary())"
      ],
      "execution_count": 22,
      "outputs": [
        {
          "output_type": "stream",
          "text": [
            "Train on 110288 samples, validate on 27573 samples\n",
            "Epoch 1/10\n",
            "110288/110288 [==============================] - 21s 194us/step - loss: 2.0939 - sparse_categorical_crossentropy: 2.0939 - val_loss: nan - val_sparse_categorical_crossentropy: nan\n",
            "Epoch 2/10\n",
            "110288/110288 [==============================] - 18s 166us/step - loss: 1.3565 - sparse_categorical_crossentropy: 1.3565 - val_loss: nan - val_sparse_categorical_crossentropy: nan\n",
            "Epoch 3/10\n",
            "110288/110288 [==============================] - 18s 166us/step - loss: 1.2085 - sparse_categorical_crossentropy: 1.2085 - val_loss: nan - val_sparse_categorical_crossentropy: nan\n",
            "Epoch 4/10\n",
            "110288/110288 [==============================] - 18s 167us/step - loss: 1.1133 - sparse_categorical_crossentropy: 1.1133 - val_loss: nan - val_sparse_categorical_crossentropy: nan\n",
            "Epoch 5/10\n",
            "110288/110288 [==============================] - 18s 167us/step - loss: 1.0380 - sparse_categorical_crossentropy: 1.0380 - val_loss: nan - val_sparse_categorical_crossentropy: nan\n",
            "Epoch 6/10\n",
            "110288/110288 [==============================] - 18s 166us/step - loss: 0.9790 - sparse_categorical_crossentropy: 0.9790 - val_loss: nan - val_sparse_categorical_crossentropy: nan\n",
            "Epoch 7/10\n",
            "110288/110288 [==============================] - 18s 167us/step - loss: 0.9321 - sparse_categorical_crossentropy: 0.9321 - val_loss: nan - val_sparse_categorical_crossentropy: nan\n",
            "Epoch 8/10\n",
            "110288/110288 [==============================] - 18s 167us/step - loss: 0.8936 - sparse_categorical_crossentropy: 0.8936 - val_loss: nan - val_sparse_categorical_crossentropy: nan\n",
            "Epoch 9/10\n",
            "110288/110288 [==============================] - 18s 166us/step - loss: 0.8592 - sparse_categorical_crossentropy: 0.8592 - val_loss: nan - val_sparse_categorical_crossentropy: nan\n",
            "Epoch 10/10\n",
            "110288/110288 [==============================] - 18s 165us/step - loss: 0.8267 - sparse_categorical_crossentropy: 0.8267 - val_loss: nan - val_sparse_categorical_crossentropy: nan\n",
            "new jersey est parfois calme en mois et il il il est en en <PAD> <PAD> <PAD> <PAD> <PAD> <PAD> <PAD>\n",
            "_________________________________________________________________\n",
            "Layer (type)                 Output Shape              Param #   \n",
            "=================================================================\n",
            "input_16 (InputLayer)        (None, 21, 1)             0         \n",
            "_________________________________________________________________\n",
            "bidirectional_5 (Bidirection (None, 21, 512)           396288    \n",
            "_________________________________________________________________\n",
            "time_distributed_16 (TimeDis (None, 21, 344)           176472    \n",
            "_________________________________________________________________\n",
            "activation_16 (Activation)   (None, 21, 344)           0         \n",
            "=================================================================\n",
            "Total params: 572,760\n",
            "Trainable params: 572,760\n",
            "Non-trainable params: 0\n",
            "_________________________________________________________________\n",
            "None\n"
          ],
          "name": "stdout"
        }
      ]
    },
    {
      "metadata": {
        "id": "PgfSGsd4rlO5",
        "colab_type": "text"
      },
      "cell_type": "markdown",
      "source": [
        "### Model 5: Custom (IMPLEMENTATION)\n",
        "Use everything you learned from the previous models to create a model that incorporates embedding and a bidirectional rnn into one model."
      ]
    },
    {
      "metadata": {
        "scrolled": true,
        "id": "H4J6RfWnrlO7",
        "colab_type": "code",
        "colab": {
          "base_uri": "https://localhost:8080/",
          "height": 35
        },
        "outputId": "fedbb26e-d3aa-4334-915d-49749e16bd78"
      },
      "cell_type": "code",
      "source": [
        "def model_final(input_shape, output_sequence_length, english_vocab_size, french_vocab_size):\n",
        "    \"\"\"\n",
        "    Build and train a model that incorporates embedding, encoder-decoder, and bidirectional RNN on x and y\n",
        "    :param input_shape: Tuple of input shape\n",
        "    :param output_sequence_length: Length of output sequence\n",
        "    :param english_vocab_size: Number of unique English words in the dataset\n",
        "    :param french_vocab_size: Number of unique French words in the dataset\n",
        "    :return: Keras model built, but not trained\n",
        "    \"\"\"\n",
        "    learning_rate = 0.005\n",
        "    input_seq = Input(input_shape[1:])\n",
        "\n",
        "    embed_layer = Embedding(input_dim=english_vocab_size, output_dim=128, mask_zero=True)(input_seq)\n",
        "    bd_layer_enc = Bidirectional(GRU(256, return_sequences=False))(embed_layer)\n",
        "    rep = RepeatVector(output_sequence_length)(bd_layer_enc)\n",
        "    bd_layer_dec = Bidirectional(GRU(256, return_sequences=True))(rep)\n",
        "    logits = TimeDistributed(Dense(french_vocab_size))(bd_layer_dec)\n",
        "    \n",
        "    model = Model(input_seq, Activation('softmax')(logits))\n",
        "    model.compile(loss=sparse_categorical_crossentropy,\n",
        "                  optimizer=Adam(learning_rate),\n",
        "                  metrics=['sparse_categorical_crossentropy'])\n",
        "\n",
        "    return model\n",
        "tests.test_model_final(model_final)\n",
        "\n",
        "print('Final Model Loaded')"
      ],
      "execution_count": 23,
      "outputs": [
        {
          "output_type": "stream",
          "text": [
            "Final Model Loaded\n"
          ],
          "name": "stdout"
        }
      ]
    },
    {
      "metadata": {
        "id": "caUnhpBwrlPK",
        "colab_type": "text"
      },
      "cell_type": "markdown",
      "source": [
        "## Prediction (IMPLEMENTATION)"
      ]
    },
    {
      "metadata": {
        "scrolled": true,
        "id": "J5LlnJpqrlPL",
        "colab_type": "code",
        "colab": {
          "base_uri": "https://localhost:8080/",
          "height": 1493
        },
        "outputId": "92a8fb04-3e34-40b2-a4b7-5d89477520e2"
      },
      "cell_type": "code",
      "source": [
        "def final_predictions(x, y, x_tk, y_tk):\n",
        "    \"\"\"\n",
        "    Gets predictions using the final model\n",
        "    :param x: Preprocessed English data\n",
        "    :param y: Preprocessed French data\n",
        "    :param x_tk: English tokenizer\n",
        "    :param y_tk: French tokenizer\n",
        "    \"\"\"\n",
        "    # TODO: Train neural network using model_final\n",
        "    tmp_x = pad(preproc_english_sentences)\n",
        "    #tmp_x = tmp_x.reshape((-1, preproc_french_sentences.shape[-2], 1))\n",
        "    \n",
        "    final_rnn_model = model_final(\n",
        "        tmp_x.shape,\n",
        "        y.shape[1],\n",
        "        len(x_tk.word_index),\n",
        "        len(y_tk.word_index))\n",
        "    final_rnn_model.fit(tmp_x, preproc_french_sentences, batch_size=1024, epochs=25, validation_split=0.2)\n",
        "\n",
        "    print(logits_to_text(final_rnn_model.predict(tmp_x[:1])[0], french_tokenizer))\n",
        "    print(final_rnn_model.summary())\n",
        "\n",
        "    ## DON'T EDIT ANYTHING BELOW THIS LINE\n",
        "    y_id_to_word = {value: key for key, value in y_tk.word_index.items()}\n",
        "    y_id_to_word[0] = '<PAD>'\n",
        "\n",
        "    sentence = 'he saw a old yellow truck'\n",
        "    sentence = [x_tk.word_index[word] for word in sentence.split()]\n",
        "    sentence = pad_sequences([sentence], maxlen=x.shape[-1], padding='post')\n",
        "    sentences = np.array([sentence[0], x[0]])\n",
        "    predictions = final_rnn_model.predict(sentences, len(sentences))\n",
        "\n",
        "    print('Sample 1:')\n",
        "    print(' '.join([y_id_to_word[np.argmax(x)] for x in predictions[0]]))\n",
        "    print('Il a vu un vieux camion jaune')\n",
        "    print('Sample 2:')\n",
        "    print(' '.join([y_id_to_word[np.argmax(x)] for x in predictions[1]]))\n",
        "    print(' '.join([y_id_to_word[np.max(x)] for x in y[0]]))\n",
        "\n",
        "\n",
        "final_predictions(preproc_english_sentences, preproc_french_sentences, english_tokenizer, french_tokenizer)"
      ],
      "execution_count": 24,
      "outputs": [
        {
          "output_type": "stream",
          "text": [
            "Train on 110288 samples, validate on 27573 samples\n",
            "Epoch 1/25\n",
            "110288/110288 [==============================] - 46s 417us/step - loss: 2.0944 - sparse_categorical_crossentropy: 2.0944 - val_loss: nan - val_sparse_categorical_crossentropy: nan\n",
            "Epoch 2/25\n",
            "110288/110288 [==============================] - 41s 373us/step - loss: 1.0798 - sparse_categorical_crossentropy: 1.0798 - val_loss: nan - val_sparse_categorical_crossentropy: nan\n",
            "Epoch 3/25\n",
            "110288/110288 [==============================] - 41s 374us/step - loss: 0.6888 - sparse_categorical_crossentropy: 0.6888 - val_loss: nan - val_sparse_categorical_crossentropy: nan\n",
            "Epoch 4/25\n",
            "110288/110288 [==============================] - 41s 374us/step - loss: 0.3837 - sparse_categorical_crossentropy: 0.3837 - val_loss: nan - val_sparse_categorical_crossentropy: nan\n",
            "Epoch 5/25\n",
            "110288/110288 [==============================] - 41s 374us/step - loss: 0.2253 - sparse_categorical_crossentropy: 0.2253 - val_loss: nan - val_sparse_categorical_crossentropy: nan\n",
            "Epoch 6/25\n",
            "110288/110288 [==============================] - 41s 374us/step - loss: 0.1806 - sparse_categorical_crossentropy: 0.1806 - val_loss: nan - val_sparse_categorical_crossentropy: nan\n",
            "Epoch 7/25\n",
            "110288/110288 [==============================] - 41s 374us/step - loss: 0.1344 - sparse_categorical_crossentropy: 0.1344 - val_loss: nan - val_sparse_categorical_crossentropy: nan\n",
            "Epoch 8/25\n",
            "110288/110288 [==============================] - 41s 371us/step - loss: 0.1189 - sparse_categorical_crossentropy: 0.1189 - val_loss: nan - val_sparse_categorical_crossentropy: nan\n",
            "Epoch 9/25\n",
            "110288/110288 [==============================] - 41s 373us/step - loss: 0.0916 - sparse_categorical_crossentropy: 0.0916 - val_loss: nan - val_sparse_categorical_crossentropy: nan\n",
            "Epoch 10/25\n",
            "110288/110288 [==============================] - 41s 373us/step - loss: 0.0814 - sparse_categorical_crossentropy: 0.0814 - val_loss: nan - val_sparse_categorical_crossentropy: nan\n",
            "Epoch 11/25\n",
            "110288/110288 [==============================] - 41s 373us/step - loss: 0.0692 - sparse_categorical_crossentropy: 0.0692 - val_loss: nan - val_sparse_categorical_crossentropy: nan\n",
            "Epoch 12/25\n",
            "110288/110288 [==============================] - 41s 373us/step - loss: 0.0622 - sparse_categorical_crossentropy: 0.0622 - val_loss: nan - val_sparse_categorical_crossentropy: nan\n",
            "Epoch 13/25\n",
            "110288/110288 [==============================] - 41s 374us/step - loss: 0.0640 - sparse_categorical_crossentropy: 0.0640 - val_loss: nan - val_sparse_categorical_crossentropy: nan\n",
            "Epoch 14/25\n",
            "110288/110288 [==============================] - 41s 374us/step - loss: 0.0799 - sparse_categorical_crossentropy: 0.0799 - val_loss: nan - val_sparse_categorical_crossentropy: nan\n",
            "Epoch 15/25\n",
            "110288/110288 [==============================] - 41s 372us/step - loss: 0.0669 - sparse_categorical_crossentropy: 0.0669 - val_loss: nan - val_sparse_categorical_crossentropy: nan\n",
            "Epoch 16/25\n",
            "110288/110288 [==============================] - 41s 373us/step - loss: 0.0641 - sparse_categorical_crossentropy: 0.0641 - val_loss: nan - val_sparse_categorical_crossentropy: nan\n",
            "Epoch 17/25\n",
            "110288/110288 [==============================] - 41s 373us/step - loss: 0.0543 - sparse_categorical_crossentropy: 0.0543 - val_loss: nan - val_sparse_categorical_crossentropy: nan\n",
            "Epoch 18/25\n",
            "110288/110288 [==============================] - 41s 373us/step - loss: 0.0568 - sparse_categorical_crossentropy: 0.0568 - val_loss: nan - val_sparse_categorical_crossentropy: nan\n",
            "Epoch 19/25\n",
            "110288/110288 [==============================] - 41s 374us/step - loss: 0.0787 - sparse_categorical_crossentropy: 0.0787 - val_loss: nan - val_sparse_categorical_crossentropy: nan\n",
            "Epoch 20/25\n",
            "110288/110288 [==============================] - 41s 374us/step - loss: 0.0621 - sparse_categorical_crossentropy: 0.0621 - val_loss: nan - val_sparse_categorical_crossentropy: nan\n",
            "Epoch 21/25\n",
            "110288/110288 [==============================] - 41s 374us/step - loss: 0.0407 - sparse_categorical_crossentropy: 0.0407 - val_loss: nan - val_sparse_categorical_crossentropy: nan\n",
            "Epoch 22/25\n",
            "110288/110288 [==============================] - 41s 374us/step - loss: 0.0328 - sparse_categorical_crossentropy: 0.0328 - val_loss: nan - val_sparse_categorical_crossentropy: nan\n",
            "Epoch 23/25\n",
            "110288/110288 [==============================] - 41s 371us/step - loss: 0.0324 - sparse_categorical_crossentropy: 0.0324 - val_loss: nan - val_sparse_categorical_crossentropy: nan\n",
            "Epoch 24/25\n",
            "110288/110288 [==============================] - 41s 374us/step - loss: 0.0376 - sparse_categorical_crossentropy: 0.0376 - val_loss: nan - val_sparse_categorical_crossentropy: nan\n",
            "Epoch 25/25\n",
            "110288/110288 [==============================] - 41s 374us/step - loss: 0.0402 - sparse_categorical_crossentropy: 0.0402 - val_loss: nan - val_sparse_categorical_crossentropy: nan\n",
            "new jersey est parfois calme pendant l' automne et il est neigeux en avril <PAD> <PAD> <PAD> <PAD> <PAD> <PAD> <PAD>\n",
            "_________________________________________________________________\n",
            "Layer (type)                 Output Shape              Param #   \n",
            "=================================================================\n",
            "input_18 (InputLayer)        (None, 15)                0         \n",
            "_________________________________________________________________\n",
            "embedding_4 (Embedding)      (None, 15, 128)           25472     \n",
            "_________________________________________________________________\n",
            "bidirectional_8 (Bidirection (None, 512)               591360    \n",
            "_________________________________________________________________\n",
            "repeat_vector_3 (RepeatVecto (None, 21, 512)           0         \n",
            "_________________________________________________________________\n",
            "bidirectional_9 (Bidirection (None, 21, 512)           1181184   \n",
            "_________________________________________________________________\n",
            "time_distributed_18 (TimeDis (None, 21, 344)           176472    \n",
            "_________________________________________________________________\n",
            "activation_18 (Activation)   (None, 21, 344)           0         \n",
            "=================================================================\n",
            "Total params: 1,974,488\n",
            "Trainable params: 1,974,488\n",
            "Non-trainable params: 0\n",
            "_________________________________________________________________\n",
            "None\n",
            "Sample 1:\n",
            "il a vu un vieux camion jaune <PAD> <PAD> <PAD> <PAD> <PAD> <PAD> <PAD> <PAD> <PAD> <PAD> <PAD> <PAD> <PAD> <PAD>\n",
            "Il a vu un vieux camion jaune\n",
            "Sample 2:\n",
            "new jersey est parfois calme pendant l' automne et il est neigeux en avril <PAD> <PAD> <PAD> <PAD> <PAD> <PAD> <PAD>\n",
            "new jersey est parfois calme pendant l' automne et il est neigeux en avril <PAD> <PAD> <PAD> <PAD> <PAD> <PAD> <PAD>\n"
          ],
          "name": "stdout"
        }
      ]
    },
    {
      "metadata": {
        "id": "fJNWEX0LrlPR",
        "colab_type": "text"
      },
      "cell_type": "markdown",
      "source": [
        "## Submission\n",
        "When you're ready to submit, complete the following steps:\n",
        "1. Review the [rubric](https://review.udacity.com/#!/rubrics/1004/view) to ensure your submission meets all requirements to pass\n",
        "2. Generate an HTML version of this notebook\n",
        "\n",
        "  - Run the next cell to attempt automatic generation (this is the recommended method in Workspaces)\n",
        "  - Navigate to **FILE -> Download as -> HTML (.html)**\n",
        "  - Manually generate a copy using `nbconvert` from your shell terminal\n",
        "```\n",
        "$ pip install nbconvert\n",
        "$ python -m nbconvert machine_translation.ipynb\n",
        "```\n",
        "  \n",
        "3. Submit the project\n",
        "\n",
        "  - If you are in a Workspace, simply click the \"Submit Project\" button (bottom towards the right)\n",
        "  \n",
        "  - Otherwise, add the following files into a zip archive and submit them \n",
        "  - `helper.py`\n",
        "  - `machine_translation.ipynb`\n",
        "  - `machine_translation.html`\n",
        "    - You can export the notebook by navigating to **File -> Download as -> HTML (.html)**."
      ]
    },
    {
      "metadata": {
        "id": "WAzByUVRrlPT",
        "colab_type": "text"
      },
      "cell_type": "markdown",
      "source": [
        "### Generate the html\n",
        "\n",
        "**Save your notebook before running the next cell to generate the HTML output.** Then submit your project."
      ]
    },
    {
      "metadata": {
        "id": "3VvXO279rlPU",
        "colab_type": "code",
        "colab": {},
        "outputId": "fca6e72b-40db-41fb-973e-c6050bff3016"
      },
      "cell_type": "code",
      "source": [
        "# Save before you run this cell!\n",
        "!!jupyter nbconvert *.ipynb"
      ],
      "execution_count": 0,
      "outputs": [
        {
          "output_type": "execute_result",
          "data": {
            "text/plain": [
              "['[NbConvertApp] Converting notebook machine_translation.ipynb to html',\n",
              " '[NbConvertApp] Writing 347812 bytes to machine_translation.html']"
            ]
          },
          "metadata": {
            "tags": []
          },
          "execution_count": 15
        }
      ]
    },
    {
      "metadata": {
        "id": "OrqXb7PhrlPb",
        "colab_type": "text"
      },
      "cell_type": "markdown",
      "source": [
        "## Optional Enhancements\n",
        "\n",
        "This project focuses on learning various network architectures for machine translation, but we don't evaluate the models according to best practices by splitting the data into separate test & training sets -- so the model accuracy is overstated. Use the [`sklearn.model_selection.train_test_split()`](http://scikit-learn.org/stable/modules/generated/sklearn.model_selection.train_test_split.html) function to create separate training & test datasets, then retrain each of the models using only the training set and evaluate the prediction accuracy using the hold out test set. Does the \"best\" model change?"
      ]
    }
  ]
}